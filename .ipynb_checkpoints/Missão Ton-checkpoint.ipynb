{
 "cells": [
  {
   "cell_type": "markdown",
   "metadata": {},
   "source": [
    "# MISSÕES STONE\n",
    "\n",
    "- Conjunto das transações realizadas em 8 dias por um cliente de e-commerce que possui alto índice de chargebacks.\n",
    "\n",
    "**Mas que é o chargeback?**<br>\n",
    "Chargeback é o pedido de cancelamento de uma compra por parte do consumidor diretamente com a operadora do cartão, em alguns casos com o intuito de fraudar o lojista\n",
    "\n",
    "## Análises requeridas:\n",
    "- Qual é o comportamento transacional do cliente (o que caracteriza as transações deste cliente)? \n",
    "- Qual é o perfil das transações que retornaram chargeback? \n",
    "- Proponha uma maneira de identificar se uma transação futura retornará chargeback, com base nos dados da planilha. \n",
    "- O que você recomendaria que o cliente fizesse para diminuir sua perda com chargebacks?"
   ]
  },
  {
   "cell_type": "code",
   "execution_count": 1,
   "metadata": {},
   "outputs": [],
   "source": [
    "# Importando as bibliotecas\n",
    "import numpy as np\n",
    "import pandas as pd\n",
    "import matplotlib.pyplot as plt\n",
    "import seaborn as sns"
   ]
  },
  {
   "cell_type": "code",
   "execution_count": 2,
   "metadata": {},
   "outputs": [
    {
     "data": {
      "text/html": [
       "<div>\n",
       "<style scoped>\n",
       "    .dataframe tbody tr th:only-of-type {\n",
       "        vertical-align: middle;\n",
       "    }\n",
       "\n",
       "    .dataframe tbody tr th {\n",
       "        vertical-align: top;\n",
       "    }\n",
       "\n",
       "    .dataframe thead th {\n",
       "        text-align: right;\n",
       "    }\n",
       "</style>\n",
       "<table border=\"1\" class=\"dataframe\">\n",
       "  <thead>\n",
       "    <tr style=\"text-align: right;\">\n",
       "      <th></th>\n",
       "      <th>DayOfWeek</th>\n",
       "      <th>Date</th>\n",
       "      <th>Hora</th>\n",
       "      <th>CardNumber</th>\n",
       "      <th>Bin</th>\n",
       "      <th>Valor</th>\n",
       "      <th>Chargeback</th>\n",
       "      <th>ChargebackDate</th>\n",
       "      <th>ChargebackHour</th>\n",
       "      <th>DaysToChargeback</th>\n",
       "    </tr>\n",
       "  </thead>\n",
       "  <tbody>\n",
       "    <tr>\n",
       "      <th>0</th>\n",
       "      <td>6</td>\n",
       "      <td>2016-01-01</td>\n",
       "      <td>00:00:42</td>\n",
       "      <td>1000039945226370</td>\n",
       "      <td>498442</td>\n",
       "      <td>275.0</td>\n",
       "      <td>N</td>\n",
       "      <td>NaT</td>\n",
       "      <td>NaN</td>\n",
       "      <td>NaN</td>\n",
       "    </tr>\n",
       "    <tr>\n",
       "      <th>1</th>\n",
       "      <td>6</td>\n",
       "      <td>2016-01-01</td>\n",
       "      <td>00:00:42</td>\n",
       "      <td>1000082981113950</td>\n",
       "      <td>544315</td>\n",
       "      <td>275.0</td>\n",
       "      <td>N</td>\n",
       "      <td>NaT</td>\n",
       "      <td>NaN</td>\n",
       "      <td>NaN</td>\n",
       "    </tr>\n",
       "    <tr>\n",
       "      <th>2</th>\n",
       "      <td>6</td>\n",
       "      <td>2016-01-01</td>\n",
       "      <td>00:00:43</td>\n",
       "      <td>1000037607418320</td>\n",
       "      <td>514895</td>\n",
       "      <td>459.0</td>\n",
       "      <td>N</td>\n",
       "      <td>NaT</td>\n",
       "      <td>NaN</td>\n",
       "      <td>NaN</td>\n",
       "    </tr>\n",
       "    <tr>\n",
       "      <th>3</th>\n",
       "      <td>6</td>\n",
       "      <td>2016-01-01</td>\n",
       "      <td>00:00:43</td>\n",
       "      <td>1000082973693690</td>\n",
       "      <td>453211</td>\n",
       "      <td>51.0</td>\n",
       "      <td>N</td>\n",
       "      <td>NaT</td>\n",
       "      <td>NaN</td>\n",
       "      <td>NaN</td>\n",
       "    </tr>\n",
       "    <tr>\n",
       "      <th>4</th>\n",
       "      <td>6</td>\n",
       "      <td>2016-01-01</td>\n",
       "      <td>00:00:43</td>\n",
       "      <td>1000082981217500</td>\n",
       "      <td>515601</td>\n",
       "      <td>306.0</td>\n",
       "      <td>N</td>\n",
       "      <td>NaT</td>\n",
       "      <td>NaN</td>\n",
       "      <td>NaN</td>\n",
       "    </tr>\n",
       "    <tr>\n",
       "      <th>...</th>\n",
       "      <td>...</td>\n",
       "      <td>...</td>\n",
       "      <td>...</td>\n",
       "      <td>...</td>\n",
       "      <td>...</td>\n",
       "      <td>...</td>\n",
       "      <td>...</td>\n",
       "      <td>...</td>\n",
       "      <td>...</td>\n",
       "      <td>...</td>\n",
       "    </tr>\n",
       "    <tr>\n",
       "      <th>72069</th>\n",
       "      <td>1</td>\n",
       "      <td>2016-02-28</td>\n",
       "      <td>23:55:43</td>\n",
       "      <td>1000110043617000</td>\n",
       "      <td>515590</td>\n",
       "      <td>100.0</td>\n",
       "      <td>N</td>\n",
       "      <td>NaT</td>\n",
       "      <td>NaN</td>\n",
       "      <td>NaN</td>\n",
       "    </tr>\n",
       "    <tr>\n",
       "      <th>72070</th>\n",
       "      <td>1</td>\n",
       "      <td>2016-02-28</td>\n",
       "      <td>23:55:45</td>\n",
       "      <td>1000110043759790</td>\n",
       "      <td>514868</td>\n",
       "      <td>55.0</td>\n",
       "      <td>N</td>\n",
       "      <td>NaT</td>\n",
       "      <td>NaN</td>\n",
       "      <td>NaN</td>\n",
       "    </tr>\n",
       "    <tr>\n",
       "      <th>72071</th>\n",
       "      <td>1</td>\n",
       "      <td>2016-02-28</td>\n",
       "      <td>23:55:47</td>\n",
       "      <td>1000110044056710</td>\n",
       "      <td>553645</td>\n",
       "      <td>110.0</td>\n",
       "      <td>N</td>\n",
       "      <td>NaT</td>\n",
       "      <td>NaN</td>\n",
       "      <td>NaN</td>\n",
       "    </tr>\n",
       "    <tr>\n",
       "      <th>72072</th>\n",
       "      <td>1</td>\n",
       "      <td>2016-02-28</td>\n",
       "      <td>23:55:48</td>\n",
       "      <td>1000064082315450</td>\n",
       "      <td>459080</td>\n",
       "      <td>550.0</td>\n",
       "      <td>N</td>\n",
       "      <td>NaT</td>\n",
       "      <td>NaN</td>\n",
       "      <td>NaN</td>\n",
       "    </tr>\n",
       "    <tr>\n",
       "      <th>72073</th>\n",
       "      <td>1</td>\n",
       "      <td>2016-02-28</td>\n",
       "      <td>23:57:55</td>\n",
       "      <td>1000110044864750</td>\n",
       "      <td>526863</td>\n",
       "      <td>500.0</td>\n",
       "      <td>N</td>\n",
       "      <td>NaT</td>\n",
       "      <td>NaN</td>\n",
       "      <td>NaN</td>\n",
       "    </tr>\n",
       "  </tbody>\n",
       "</table>\n",
       "<p>72074 rows × 10 columns</p>\n",
       "</div>"
      ],
      "text/plain": [
       "       DayOfWeek       Date      Hora        CardNumber     Bin  Valor  \\\n",
       "0              6 2016-01-01  00:00:42  1000039945226370  498442  275.0   \n",
       "1              6 2016-01-01  00:00:42  1000082981113950  544315  275.0   \n",
       "2              6 2016-01-01  00:00:43  1000037607418320  514895  459.0   \n",
       "3              6 2016-01-01  00:00:43  1000082973693690  453211   51.0   \n",
       "4              6 2016-01-01  00:00:43  1000082981217500  515601  306.0   \n",
       "...          ...        ...       ...               ...     ...    ...   \n",
       "72069          1 2016-02-28  23:55:43  1000110043617000  515590  100.0   \n",
       "72070          1 2016-02-28  23:55:45  1000110043759790  514868   55.0   \n",
       "72071          1 2016-02-28  23:55:47  1000110044056710  553645  110.0   \n",
       "72072          1 2016-02-28  23:55:48  1000064082315450  459080  550.0   \n",
       "72073          1 2016-02-28  23:57:55  1000110044864750  526863  500.0   \n",
       "\n",
       "      Chargeback ChargebackDate ChargebackHour  DaysToChargeback  \n",
       "0              N            NaT            NaN               NaN  \n",
       "1              N            NaT            NaN               NaN  \n",
       "2              N            NaT            NaN               NaN  \n",
       "3              N            NaT            NaN               NaN  \n",
       "4              N            NaT            NaN               NaN  \n",
       "...          ...            ...            ...               ...  \n",
       "72069          N            NaT            NaN               NaN  \n",
       "72070          N            NaT            NaN               NaN  \n",
       "72071          N            NaT            NaN               NaN  \n",
       "72072          N            NaT            NaN               NaN  \n",
       "72073          N            NaT            NaN               NaN  \n",
       "\n",
       "[72074 rows x 10 columns]"
      ]
     },
     "execution_count": 2,
     "metadata": {},
     "output_type": "execute_result"
    }
   ],
   "source": [
    "# Convertendo o arquivo em Excel de xlsx para csv para visualizar o dataset\n",
    "df = pd.read_excel('Stone - Chargeback Challenge.xlsx', index_col=None)\n",
    "df.to_csv('Stone - Chargeback Challenge.csv', encoding='utf-8')\n",
    "df"
   ]
  },
  {
   "cell_type": "code",
   "execution_count": 3,
   "metadata": {
    "scrolled": true
   },
   "outputs": [
    {
     "data": {
      "text/html": [
       "<div>\n",
       "<style scoped>\n",
       "    .dataframe tbody tr th:only-of-type {\n",
       "        vertical-align: middle;\n",
       "    }\n",
       "\n",
       "    .dataframe tbody tr th {\n",
       "        vertical-align: top;\n",
       "    }\n",
       "\n",
       "    .dataframe thead th {\n",
       "        text-align: right;\n",
       "    }\n",
       "</style>\n",
       "<table border=\"1\" class=\"dataframe\">\n",
       "  <thead>\n",
       "    <tr style=\"text-align: right;\">\n",
       "      <th></th>\n",
       "      <th>DayOfWeek</th>\n",
       "      <th>Date</th>\n",
       "      <th>Hora</th>\n",
       "      <th>CardNumber</th>\n",
       "      <th>Bin</th>\n",
       "      <th>Valor</th>\n",
       "      <th>Chargeback</th>\n",
       "      <th>ChargebackDate</th>\n",
       "      <th>ChargebackHour</th>\n",
       "      <th>DaysToChargeback</th>\n",
       "    </tr>\n",
       "  </thead>\n",
       "  <tbody>\n",
       "    <tr>\n",
       "      <th>43</th>\n",
       "      <td>6</td>\n",
       "      <td>2016-01-01</td>\n",
       "      <td>09:40:44</td>\n",
       "      <td>1000022619028630</td>\n",
       "      <td>552289</td>\n",
       "      <td>550.0</td>\n",
       "      <td>N</td>\n",
       "      <td>NaT</td>\n",
       "      <td>NaN</td>\n",
       "      <td>NaN</td>\n",
       "    </tr>\n",
       "    <tr>\n",
       "      <th>59</th>\n",
       "      <td>6</td>\n",
       "      <td>2016-01-01</td>\n",
       "      <td>10:05:42</td>\n",
       "      <td>1000022619028630</td>\n",
       "      <td>552289</td>\n",
       "      <td>260.0</td>\n",
       "      <td>N</td>\n",
       "      <td>NaT</td>\n",
       "      <td>NaN</td>\n",
       "      <td>NaN</td>\n",
       "    </tr>\n",
       "    <tr>\n",
       "      <th>67</th>\n",
       "      <td>6</td>\n",
       "      <td>2016-01-01</td>\n",
       "      <td>10:15:46</td>\n",
       "      <td>1000022619028630</td>\n",
       "      <td>552289</td>\n",
       "      <td>510.0</td>\n",
       "      <td>N</td>\n",
       "      <td>NaT</td>\n",
       "      <td>NaN</td>\n",
       "      <td>NaN</td>\n",
       "    </tr>\n",
       "    <tr>\n",
       "      <th>184</th>\n",
       "      <td>6</td>\n",
       "      <td>2016-01-01</td>\n",
       "      <td>14:50:43</td>\n",
       "      <td>1000082887549030</td>\n",
       "      <td>409308</td>\n",
       "      <td>1375.0</td>\n",
       "      <td>N</td>\n",
       "      <td>NaT</td>\n",
       "      <td>NaN</td>\n",
       "      <td>NaN</td>\n",
       "    </tr>\n",
       "    <tr>\n",
       "      <th>213</th>\n",
       "      <td>6</td>\n",
       "      <td>2016-01-01</td>\n",
       "      <td>15:00:44</td>\n",
       "      <td>1000065718145070</td>\n",
       "      <td>422200</td>\n",
       "      <td>1375.0</td>\n",
       "      <td>N</td>\n",
       "      <td>NaT</td>\n",
       "      <td>NaN</td>\n",
       "      <td>NaN</td>\n",
       "    </tr>\n",
       "    <tr>\n",
       "      <th>...</th>\n",
       "      <td>...</td>\n",
       "      <td>...</td>\n",
       "      <td>...</td>\n",
       "      <td>...</td>\n",
       "      <td>...</td>\n",
       "      <td>...</td>\n",
       "      <td>...</td>\n",
       "      <td>...</td>\n",
       "      <td>...</td>\n",
       "      <td>...</td>\n",
       "    </tr>\n",
       "    <tr>\n",
       "      <th>70568</th>\n",
       "      <td>1</td>\n",
       "      <td>2016-02-28</td>\n",
       "      <td>14:00:48</td>\n",
       "      <td>1000039956692370</td>\n",
       "      <td>432729</td>\n",
       "      <td>550.0</td>\n",
       "      <td>N</td>\n",
       "      <td>NaT</td>\n",
       "      <td>NaN</td>\n",
       "      <td>NaN</td>\n",
       "    </tr>\n",
       "    <tr>\n",
       "      <th>70570</th>\n",
       "      <td>1</td>\n",
       "      <td>2016-02-28</td>\n",
       "      <td>14:00:49</td>\n",
       "      <td>1000039956692370</td>\n",
       "      <td>432729</td>\n",
       "      <td>550.0</td>\n",
       "      <td>N</td>\n",
       "      <td>NaT</td>\n",
       "      <td>NaN</td>\n",
       "      <td>NaN</td>\n",
       "    </tr>\n",
       "    <tr>\n",
       "      <th>70968</th>\n",
       "      <td>1</td>\n",
       "      <td>2016-02-28</td>\n",
       "      <td>16:45:44</td>\n",
       "      <td>1000109140919700</td>\n",
       "      <td>498431</td>\n",
       "      <td>2750.0</td>\n",
       "      <td>N</td>\n",
       "      <td>NaT</td>\n",
       "      <td>NaN</td>\n",
       "      <td>NaN</td>\n",
       "    </tr>\n",
       "    <tr>\n",
       "      <th>70969</th>\n",
       "      <td>1</td>\n",
       "      <td>2016-02-28</td>\n",
       "      <td>16:45:44</td>\n",
       "      <td>1000109140919700</td>\n",
       "      <td>498431</td>\n",
       "      <td>2750.0</td>\n",
       "      <td>N</td>\n",
       "      <td>NaT</td>\n",
       "      <td>NaN</td>\n",
       "      <td>NaN</td>\n",
       "    </tr>\n",
       "    <tr>\n",
       "      <th>71141</th>\n",
       "      <td>1</td>\n",
       "      <td>2016-02-28</td>\n",
       "      <td>17:45:45</td>\n",
       "      <td>1000109203262370</td>\n",
       "      <td>515590</td>\n",
       "      <td>2750.0</td>\n",
       "      <td>N</td>\n",
       "      <td>NaT</td>\n",
       "      <td>NaN</td>\n",
       "      <td>NaN</td>\n",
       "    </tr>\n",
       "  </tbody>\n",
       "</table>\n",
       "<p>381 rows × 10 columns</p>\n",
       "</div>"
      ],
      "text/plain": [
       "       DayOfWeek       Date      Hora        CardNumber     Bin   Valor  \\\n",
       "43             6 2016-01-01  09:40:44  1000022619028630  552289   550.0   \n",
       "59             6 2016-01-01  10:05:42  1000022619028630  552289   260.0   \n",
       "67             6 2016-01-01  10:15:46  1000022619028630  552289   510.0   \n",
       "184            6 2016-01-01  14:50:43  1000082887549030  409308  1375.0   \n",
       "213            6 2016-01-01  15:00:44  1000065718145070  422200  1375.0   \n",
       "...          ...        ...       ...               ...     ...     ...   \n",
       "70568          1 2016-02-28  14:00:48  1000039956692370  432729   550.0   \n",
       "70570          1 2016-02-28  14:00:49  1000039956692370  432729   550.0   \n",
       "70968          1 2016-02-28  16:45:44  1000109140919700  498431  2750.0   \n",
       "70969          1 2016-02-28  16:45:44  1000109140919700  498431  2750.0   \n",
       "71141          1 2016-02-28  17:45:45  1000109203262370  515590  2750.0   \n",
       "\n",
       "      Chargeback ChargebackDate ChargebackHour  DaysToChargeback  \n",
       "43             N            NaT            NaN               NaN  \n",
       "59             N            NaT            NaN               NaN  \n",
       "67             N            NaT            NaN               NaN  \n",
       "184            N            NaT            NaN               NaN  \n",
       "213            N            NaT            NaN               NaN  \n",
       "...          ...            ...            ...               ...  \n",
       "70568          N            NaT            NaN               NaN  \n",
       "70570          N            NaT            NaN               NaN  \n",
       "70968          N            NaT            NaN               NaN  \n",
       "70969          N            NaT            NaN               NaN  \n",
       "71141          N            NaT            NaN               NaN  \n",
       "\n",
       "[381 rows x 10 columns]"
      ]
     },
     "execution_count": 3,
     "metadata": {},
     "output_type": "execute_result"
    }
   ],
   "source": [
    "# Procurando por linhas duplicadas\n",
    "duplicateDFRow = df[df.duplicated(keep='first')]\n",
    "duplicateDFRow"
   ]
  },
  {
   "cell_type": "code",
   "execution_count": 4,
   "metadata": {},
   "outputs": [
    {
     "data": {
      "text/plain": [
       "1000027960316920    11\n",
       "1000042163279590    10\n",
       "1000063568794560     9\n",
       "1000045838521110     8\n",
       "1000027976840600     7\n",
       "                    ..\n",
       "1000098149733200     1\n",
       "1000006402236760     1\n",
       "1000032763486670     1\n",
       "1000104755597110     1\n",
       "1000030970489660     1\n",
       "Name: CardNumber, Length: 201, dtype: int64"
      ]
     },
     "execution_count": 4,
     "metadata": {},
     "output_type": "execute_result"
    }
   ],
   "source": [
    "# Dando só uma olhadinha nas linhas duplicadas por curiosidade para ver se encontramos algo de interessante...\n",
    "duplicateDFRow['CardNumber'].value_counts()"
   ]
  },
  {
   "cell_type": "code",
   "execution_count": 5,
   "metadata": {},
   "outputs": [
    {
     "data": {
      "text/plain": [
       "N    378\n",
       "S      3\n",
       "Name: Chargeback, dtype: int64"
      ]
     },
     "execution_count": 5,
     "metadata": {},
     "output_type": "execute_result"
    }
   ],
   "source": [
    "# Analisando os chargebacks das linhas dulicadas\n",
    "duplicateDFRow['Chargeback'].value_counts()"
   ]
  },
  {
   "cell_type": "markdown",
   "metadata": {},
   "source": [
    "Encontramos um total de 381 linhas duplicadas, das quais:\n",
    "- 201 cartões diferentes tinham registros duplicados\n",
    "- 378 não tiveram chargeback\n",
    "- 3 transações tiveram chargeback"
   ]
  },
  {
   "cell_type": "code",
   "execution_count": 6,
   "metadata": {},
   "outputs": [
    {
     "data": {
      "text/plain": [
       "(71693, 10)"
      ]
     },
     "execution_count": 6,
     "metadata": {},
     "output_type": "execute_result"
    }
   ],
   "source": [
    "# Agora que encontramos as linhas duplicadas, vamos excluílas\n",
    "df.drop_duplicates(keep='first', inplace=True)\n",
    "df.shape"
   ]
  },
  {
   "cell_type": "code",
   "execution_count": 7,
   "metadata": {},
   "outputs": [
    {
     "data": {
      "text/plain": [
       "11    6028\n",
       "15    5379\n",
       "12    5065\n",
       "16    5064\n",
       "10    4954\n",
       "14    4866\n",
       "17    4856\n",
       "13    4465\n",
       "18    4237\n",
       "19    3942\n",
       "20    3937\n",
       "21    3919\n",
       "22    3567\n",
       "9     3047\n",
       "23    2734\n",
       "0     1602\n",
       "8     1591\n",
       "1      773\n",
       "7      607\n",
       "2      405\n",
       "6      232\n",
       "3      194\n",
       "4      134\n",
       "5       95\n",
       "Name: SoHora, dtype: int64"
      ]
     },
     "execution_count": 7,
     "metadata": {},
     "output_type": "execute_result"
    }
   ],
   "source": [
    "# Criando uma coluna para as horas, sem os minutos e segundos\n",
    "df1 = df.copy()\n",
    "df1['SoHora'] = df1['Hora'].apply(lambda hora: hora.hour)\n",
    "df1['SoHora'].value_counts()"
   ]
  },
  {
   "cell_type": "code",
   "execution_count": 8,
   "metadata": {},
   "outputs": [
    {
     "data": {
      "text/html": [
       "<div>\n",
       "<style scoped>\n",
       "    .dataframe tbody tr th:only-of-type {\n",
       "        vertical-align: middle;\n",
       "    }\n",
       "\n",
       "    .dataframe tbody tr th {\n",
       "        vertical-align: top;\n",
       "    }\n",
       "\n",
       "    .dataframe thead th {\n",
       "        text-align: right;\n",
       "    }\n",
       "</style>\n",
       "<table border=\"1\" class=\"dataframe\">\n",
       "  <thead>\n",
       "    <tr style=\"text-align: right;\">\n",
       "      <th></th>\n",
       "      <th>DayOfWeek</th>\n",
       "      <th>CardNumber</th>\n",
       "      <th>Bin</th>\n",
       "      <th>Valor</th>\n",
       "      <th>DaysToChargeback</th>\n",
       "      <th>SoHora</th>\n",
       "    </tr>\n",
       "  </thead>\n",
       "  <tbody>\n",
       "    <tr>\n",
       "      <th>count</th>\n",
       "      <td>71693.00</td>\n",
       "      <td>7.169300e+04</td>\n",
       "      <td>71693.00</td>\n",
       "      <td>71693.00</td>\n",
       "      <td>318.00</td>\n",
       "      <td>71693.00</td>\n",
       "    </tr>\n",
       "    <tr>\n",
       "      <th>mean</th>\n",
       "      <td>3.97</td>\n",
       "      <td>1.000075e+15</td>\n",
       "      <td>495936.41</td>\n",
       "      <td>410.10</td>\n",
       "      <td>32.43</td>\n",
       "      <td>14.64</td>\n",
       "    </tr>\n",
       "    <tr>\n",
       "      <th>std</th>\n",
       "      <td>1.90</td>\n",
       "      <td>2.824466e+10</td>\n",
       "      <td>48513.41</td>\n",
       "      <td>585.15</td>\n",
       "      <td>23.30</td>\n",
       "      <td>5.11</td>\n",
       "    </tr>\n",
       "    <tr>\n",
       "      <th>min</th>\n",
       "      <td>1.00</td>\n",
       "      <td>1.000000e+15</td>\n",
       "      <td>400217.00</td>\n",
       "      <td>9.65</td>\n",
       "      <td>4.00</td>\n",
       "      <td>0.00</td>\n",
       "    </tr>\n",
       "    <tr>\n",
       "      <th>25%</th>\n",
       "      <td>2.00</td>\n",
       "      <td>1.000048e+15</td>\n",
       "      <td>457937.00</td>\n",
       "      <td>100.00</td>\n",
       "      <td>13.25</td>\n",
       "      <td>11.00</td>\n",
       "    </tr>\n",
       "    <tr>\n",
       "      <th>50%</th>\n",
       "      <td>4.00</td>\n",
       "      <td>1.000087e+15</td>\n",
       "      <td>498453.00</td>\n",
       "      <td>275.00</td>\n",
       "      <td>30.00</td>\n",
       "      <td>15.00</td>\n",
       "    </tr>\n",
       "    <tr>\n",
       "      <th>75%</th>\n",
       "      <td>6.00</td>\n",
       "      <td>1.000098e+15</td>\n",
       "      <td>540105.00</td>\n",
       "      <td>500.00</td>\n",
       "      <td>42.00</td>\n",
       "      <td>19.00</td>\n",
       "    </tr>\n",
       "    <tr>\n",
       "      <th>max</th>\n",
       "      <td>7.00</td>\n",
       "      <td>1.000110e+15</td>\n",
       "      <td>559076.00</td>\n",
       "      <td>4962.50</td>\n",
       "      <td>120.00</td>\n",
       "      <td>23.00</td>\n",
       "    </tr>\n",
       "  </tbody>\n",
       "</table>\n",
       "</div>"
      ],
      "text/plain": [
       "       DayOfWeek    CardNumber        Bin     Valor  DaysToChargeback  \\\n",
       "count   71693.00  7.169300e+04   71693.00  71693.00            318.00   \n",
       "mean        3.97  1.000075e+15  495936.41    410.10             32.43   \n",
       "std         1.90  2.824466e+10   48513.41    585.15             23.30   \n",
       "min         1.00  1.000000e+15  400217.00      9.65              4.00   \n",
       "25%         2.00  1.000048e+15  457937.00    100.00             13.25   \n",
       "50%         4.00  1.000087e+15  498453.00    275.00             30.00   \n",
       "75%         6.00  1.000098e+15  540105.00    500.00             42.00   \n",
       "max         7.00  1.000110e+15  559076.00   4962.50            120.00   \n",
       "\n",
       "         SoHora  \n",
       "count  71693.00  \n",
       "mean      14.64  \n",
       "std        5.11  \n",
       "min        0.00  \n",
       "25%       11.00  \n",
       "50%       15.00  \n",
       "75%       19.00  \n",
       "max       23.00  "
      ]
     },
     "execution_count": 8,
     "metadata": {},
     "output_type": "execute_result"
    }
   ],
   "source": [
    "# Obtendo uma descrição dos dados numéricos\n",
    "df1.describe().round(2)"
   ]
  },
  {
   "cell_type": "markdown",
   "metadata": {},
   "source": [
    "A transação de menor valor foi de 9,65 e a de maior valor 4.962,50.M<br>\n",
    "O menor prazo de chargeback foi de 4 dias e o maior 120 dias."
   ]
  },
  {
   "cell_type": "code",
   "execution_count": 9,
   "metadata": {},
   "outputs": [
    {
     "data": {
      "text/html": [
       "<div>\n",
       "<style scoped>\n",
       "    .dataframe tbody tr th:only-of-type {\n",
       "        vertical-align: middle;\n",
       "    }\n",
       "\n",
       "    .dataframe tbody tr th {\n",
       "        vertical-align: top;\n",
       "    }\n",
       "\n",
       "    .dataframe thead th {\n",
       "        text-align: right;\n",
       "    }\n",
       "</style>\n",
       "<table border=\"1\" class=\"dataframe\">\n",
       "  <thead>\n",
       "    <tr style=\"text-align: right;\">\n",
       "      <th></th>\n",
       "      <th>Hora</th>\n",
       "      <th>Chargeback</th>\n",
       "      <th>ChargebackHour</th>\n",
       "    </tr>\n",
       "  </thead>\n",
       "  <tbody>\n",
       "    <tr>\n",
       "      <th>count</th>\n",
       "      <td>71693</td>\n",
       "      <td>71693</td>\n",
       "      <td>318</td>\n",
       "    </tr>\n",
       "    <tr>\n",
       "      <th>unique</th>\n",
       "      <td>14503</td>\n",
       "      <td>2</td>\n",
       "      <td>87</td>\n",
       "    </tr>\n",
       "    <tr>\n",
       "      <th>top</th>\n",
       "      <td>15:10:46</td>\n",
       "      <td>N</td>\n",
       "      <td>23:00:06</td>\n",
       "    </tr>\n",
       "    <tr>\n",
       "      <th>freq</th>\n",
       "      <td>34</td>\n",
       "      <td>71375</td>\n",
       "      <td>46</td>\n",
       "    </tr>\n",
       "  </tbody>\n",
       "</table>\n",
       "</div>"
      ],
      "text/plain": [
       "            Hora Chargeback ChargebackHour\n",
       "count      71693      71693            318\n",
       "unique     14503          2             87\n",
       "top     15:10:46          N       23:00:06\n",
       "freq          34      71375             46"
      ]
     },
     "execution_count": 9,
     "metadata": {},
     "output_type": "execute_result"
    }
   ],
   "source": [
    "# Obtendo uma descrição dos dados categóricos\n",
    "df1.describe(include=np.object)"
   ]
  },
  {
   "cell_type": "code",
   "execution_count": 10,
   "metadata": {},
   "outputs": [
    {
     "data": {
      "text/plain": [
       "DayOfWeek               0\n",
       "Date                    0\n",
       "Hora                    0\n",
       "CardNumber              0\n",
       "Bin                     0\n",
       "Valor                   0\n",
       "Chargeback              0\n",
       "ChargebackDate      71375\n",
       "ChargebackHour      71375\n",
       "DaysToChargeback    71375\n",
       "SoHora                  0\n",
       "dtype: int64"
      ]
     },
     "execution_count": 10,
     "metadata": {},
     "output_type": "execute_result"
    }
   ],
   "source": [
    "# Procurando valores nulos\n",
    "df1.isnull().sum()"
   ]
  },
  {
   "cell_type": "code",
   "execution_count": 11,
   "metadata": {},
   "outputs": [
    {
     "name": "stdout",
     "output_type": "stream",
     "text": [
      "<class 'pandas.core.frame.DataFrame'>\n",
      "Int64Index: 71693 entries, 0 to 72073\n",
      "Data columns (total 11 columns):\n",
      " #   Column            Non-Null Count  Dtype         \n",
      "---  ------            --------------  -----         \n",
      " 0   DayOfWeek         71693 non-null  int64         \n",
      " 1   Date              71693 non-null  datetime64[ns]\n",
      " 2   Hora              71693 non-null  object        \n",
      " 3   CardNumber        71693 non-null  int64         \n",
      " 4   Bin               71693 non-null  int64         \n",
      " 5   Valor             71693 non-null  float64       \n",
      " 6   Chargeback        71693 non-null  object        \n",
      " 7   ChargebackDate    318 non-null    datetime64[ns]\n",
      " 8   ChargebackHour    318 non-null    object        \n",
      " 9   DaysToChargeback  318 non-null    float64       \n",
      " 10  SoHora            71693 non-null  int64         \n",
      "dtypes: datetime64[ns](2), float64(2), int64(4), object(3)\n",
      "memory usage: 6.6+ MB\n"
     ]
    }
   ],
   "source": [
    "# Criando um sumário dos dados\n",
    "df1.info()"
   ]
  },
  {
   "cell_type": "code",
   "execution_count": 12,
   "metadata": {},
   "outputs": [
    {
     "data": {
      "text/plain": [
       "5    11675\n",
       "4    11486\n",
       "3    10924\n",
       "6    10376\n",
       "2    10106\n",
       "1     9117\n",
       "7     8009\n",
       "Name: DayOfWeek, dtype: int64"
      ]
     },
     "execution_count": 12,
     "metadata": {},
     "output_type": "execute_result"
    }
   ],
   "source": [
    "# Vendo as quantidades das transações pelos dias da semana\n",
    "df1['DayOfWeek'].value_counts()"
   ]
  },
  {
   "cell_type": "code",
   "execution_count": 13,
   "metadata": {},
   "outputs": [],
   "source": [
    "# Substituindo os nomes dos dias da semana\n",
    "df2 = df1.copy()\n",
    "df2['DayOfWeek'].replace({1: 'Segunda', 2: 'Terça', 3: 'Quarta', 4: 'Quinta', 5: 'Sexta', 6: 'Sábado', 7: 'Domingo'}, inplace=True)"
   ]
  },
  {
   "cell_type": "code",
   "execution_count": 14,
   "metadata": {},
   "outputs": [
    {
     "data": {
      "text/plain": [
       "(array([0, 1, 2, 3, 4, 5, 6]), <a list of 7 Text major ticklabel objects>)"
      ]
     },
     "execution_count": 14,
     "metadata": {},
     "output_type": "execute_result"
    },
    {
     "data": {
      "image/png": "[encoded data removed]",
      "text/plain": [
       "<Figure size 432x288 with 1 Axes>"
      ]
     },
     "metadata": {
      "needs_background": "light"
     },
     "output_type": "display_data"
    }
   ],
   "source": [
    "# Olhando a frequência das transações pelos dias da semana\n",
    "sns.countplot(data = df2, x = 'DayOfWeek', order = df2['DayOfWeek'].value_counts().index)\n",
    "plt.xticks(rotation = 90)"
   ]
  },
  {
   "cell_type": "code",
   "execution_count": 15,
   "metadata": {},
   "outputs": [
    {
     "data": {
      "text/html": [
       "<div>\n",
       "<style scoped>\n",
       "    .dataframe tbody tr th:only-of-type {\n",
       "        vertical-align: middle;\n",
       "    }\n",
       "\n",
       "    .dataframe tbody tr th {\n",
       "        vertical-align: top;\n",
       "    }\n",
       "\n",
       "    .dataframe thead th {\n",
       "        text-align: right;\n",
       "    }\n",
       "</style>\n",
       "<table border=\"1\" class=\"dataframe\">\n",
       "  <thead>\n",
       "    <tr style=\"text-align: right;\">\n",
       "      <th>Chargeback</th>\n",
       "      <th>N</th>\n",
       "      <th>S</th>\n",
       "    </tr>\n",
       "    <tr>\n",
       "      <th>DayOfWeek</th>\n",
       "      <th></th>\n",
       "      <th></th>\n",
       "    </tr>\n",
       "  </thead>\n",
       "  <tbody>\n",
       "    <tr>\n",
       "      <th>Domingo</th>\n",
       "      <td>7982</td>\n",
       "      <td>27</td>\n",
       "    </tr>\n",
       "    <tr>\n",
       "      <th>Quarta</th>\n",
       "      <td>10873</td>\n",
       "      <td>51</td>\n",
       "    </tr>\n",
       "    <tr>\n",
       "      <th>Quinta</th>\n",
       "      <td>11436</td>\n",
       "      <td>50</td>\n",
       "    </tr>\n",
       "    <tr>\n",
       "      <th>Segunda</th>\n",
       "      <td>9062</td>\n",
       "      <td>55</td>\n",
       "    </tr>\n",
       "    <tr>\n",
       "      <th>Sexta</th>\n",
       "      <td>11610</td>\n",
       "      <td>65</td>\n",
       "    </tr>\n",
       "    <tr>\n",
       "      <th>Sábado</th>\n",
       "      <td>10330</td>\n",
       "      <td>46</td>\n",
       "    </tr>\n",
       "    <tr>\n",
       "      <th>Terça</th>\n",
       "      <td>10082</td>\n",
       "      <td>24</td>\n",
       "    </tr>\n",
       "  </tbody>\n",
       "</table>\n",
       "</div>"
      ],
      "text/plain": [
       "Chargeback      N   S\n",
       "DayOfWeek            \n",
       "Domingo      7982  27\n",
       "Quarta      10873  51\n",
       "Quinta      11436  50\n",
       "Segunda      9062  55\n",
       "Sexta       11610  65\n",
       "Sábado      10330  46\n",
       "Terça       10082  24"
      ]
     },
     "execution_count": 15,
     "metadata": {},
     "output_type": "execute_result"
    }
   ],
   "source": [
    "# Plot por dia da semana dos Chargebacks\n",
    "pd.crosstab(df2['DayOfWeek'], df2['Chargeback'])"
   ]
  },
  {
   "cell_type": "code",
   "execution_count": 16,
   "metadata": {},
   "outputs": [
    {
     "data": {
      "text/plain": [
       "<matplotlib.axes._subplots.AxesSubplot at 0x2091248f700>"
      ]
     },
     "execution_count": 16,
     "metadata": {},
     "output_type": "execute_result"
    },
    {
     "data": {
      "image/png": "[encoded data removed]",
      "text/plain": [
       "<Figure size 576x360 with 1 Axes>"
      ]
     },
     "metadata": {
      "needs_background": "light"
     },
     "output_type": "display_data"
    }
   ],
   "source": [
    "pd.crosstab(df2['DayOfWeek'], df2['Chargeback']).plot(kind='bar', stacked = True, figsize = (8, 5))"
   ]
  },
  {
   "cell_type": "code",
   "execution_count": 17,
   "metadata": {},
   "outputs": [
    {
     "data": {
      "text/html": [
       "<div>\n",
       "<style scoped>\n",
       "    .dataframe tbody tr th:only-of-type {\n",
       "        vertical-align: middle;\n",
       "    }\n",
       "\n",
       "    .dataframe tbody tr th {\n",
       "        vertical-align: top;\n",
       "    }\n",
       "\n",
       "    .dataframe thead th {\n",
       "        text-align: right;\n",
       "    }\n",
       "</style>\n",
       "<table border=\"1\" class=\"dataframe\">\n",
       "  <thead>\n",
       "    <tr style=\"text-align: right;\">\n",
       "      <th>Chargeback</th>\n",
       "      <th>N</th>\n",
       "      <th>S</th>\n",
       "    </tr>\n",
       "    <tr>\n",
       "      <th>Date</th>\n",
       "      <th></th>\n",
       "      <th></th>\n",
       "    </tr>\n",
       "  </thead>\n",
       "  <tbody>\n",
       "    <tr>\n",
       "      <th>2016-01-01</th>\n",
       "      <td>505</td>\n",
       "      <td>3</td>\n",
       "    </tr>\n",
       "    <tr>\n",
       "      <th>2016-01-02</th>\n",
       "      <td>511</td>\n",
       "      <td>4</td>\n",
       "    </tr>\n",
       "    <tr>\n",
       "      <th>2016-01-03</th>\n",
       "      <td>424</td>\n",
       "      <td>0</td>\n",
       "    </tr>\n",
       "    <tr>\n",
       "      <th>2016-01-04</th>\n",
       "      <td>920</td>\n",
       "      <td>3</td>\n",
       "    </tr>\n",
       "    <tr>\n",
       "      <th>2016-01-05</th>\n",
       "      <td>1336</td>\n",
       "      <td>7</td>\n",
       "    </tr>\n",
       "    <tr>\n",
       "      <th>2016-01-06</th>\n",
       "      <td>1395</td>\n",
       "      <td>4</td>\n",
       "    </tr>\n",
       "    <tr>\n",
       "      <th>2016-01-07</th>\n",
       "      <td>1334</td>\n",
       "      <td>12</td>\n",
       "    </tr>\n",
       "    <tr>\n",
       "      <th>2016-01-08</th>\n",
       "      <td>1005</td>\n",
       "      <td>5</td>\n",
       "    </tr>\n",
       "    <tr>\n",
       "      <th>2016-01-09</th>\n",
       "      <td>741</td>\n",
       "      <td>1</td>\n",
       "    </tr>\n",
       "    <tr>\n",
       "      <th>2016-01-10</th>\n",
       "      <td>692</td>\n",
       "      <td>4</td>\n",
       "    </tr>\n",
       "    <tr>\n",
       "      <th>2016-01-11</th>\n",
       "      <td>1362</td>\n",
       "      <td>5</td>\n",
       "    </tr>\n",
       "    <tr>\n",
       "      <th>2016-01-12</th>\n",
       "      <td>1048</td>\n",
       "      <td>4</td>\n",
       "    </tr>\n",
       "    <tr>\n",
       "      <th>2016-01-13</th>\n",
       "      <td>1455</td>\n",
       "      <td>3</td>\n",
       "    </tr>\n",
       "    <tr>\n",
       "      <th>2016-01-14</th>\n",
       "      <td>1341</td>\n",
       "      <td>4</td>\n",
       "    </tr>\n",
       "    <tr>\n",
       "      <th>2016-01-15</th>\n",
       "      <td>1124</td>\n",
       "      <td>7</td>\n",
       "    </tr>\n",
       "    <tr>\n",
       "      <th>2016-01-16</th>\n",
       "      <td>898</td>\n",
       "      <td>4</td>\n",
       "    </tr>\n",
       "    <tr>\n",
       "      <th>2016-01-17</th>\n",
       "      <td>895</td>\n",
       "      <td>5</td>\n",
       "    </tr>\n",
       "    <tr>\n",
       "      <th>2016-01-18</th>\n",
       "      <td>1141</td>\n",
       "      <td>6</td>\n",
       "    </tr>\n",
       "    <tr>\n",
       "      <th>2016-01-19</th>\n",
       "      <td>1059</td>\n",
       "      <td>7</td>\n",
       "    </tr>\n",
       "    <tr>\n",
       "      <th>2016-01-20</th>\n",
       "      <td>1012</td>\n",
       "      <td>4</td>\n",
       "    </tr>\n",
       "    <tr>\n",
       "      <th>2016-01-21</th>\n",
       "      <td>1377</td>\n",
       "      <td>8</td>\n",
       "    </tr>\n",
       "    <tr>\n",
       "      <th>2016-01-22</th>\n",
       "      <td>1314</td>\n",
       "      <td>9</td>\n",
       "    </tr>\n",
       "    <tr>\n",
       "      <th>2016-01-23</th>\n",
       "      <td>779</td>\n",
       "      <td>2</td>\n",
       "    </tr>\n",
       "    <tr>\n",
       "      <th>2016-01-24</th>\n",
       "      <td>663</td>\n",
       "      <td>7</td>\n",
       "    </tr>\n",
       "    <tr>\n",
       "      <th>2016-01-25</th>\n",
       "      <td>1165</td>\n",
       "      <td>0</td>\n",
       "    </tr>\n",
       "    <tr>\n",
       "      <th>2016-01-26</th>\n",
       "      <td>1541</td>\n",
       "      <td>9</td>\n",
       "    </tr>\n",
       "    <tr>\n",
       "      <th>2016-01-27</th>\n",
       "      <td>1543</td>\n",
       "      <td>6</td>\n",
       "    </tr>\n",
       "    <tr>\n",
       "      <th>2016-01-28</th>\n",
       "      <td>1776</td>\n",
       "      <td>6</td>\n",
       "    </tr>\n",
       "    <tr>\n",
       "      <th>2016-01-29</th>\n",
       "      <td>1641</td>\n",
       "      <td>2</td>\n",
       "    </tr>\n",
       "    <tr>\n",
       "      <th>2016-01-30</th>\n",
       "      <td>1085</td>\n",
       "      <td>2</td>\n",
       "    </tr>\n",
       "    <tr>\n",
       "      <th>2016-01-31</th>\n",
       "      <td>1666</td>\n",
       "      <td>6</td>\n",
       "    </tr>\n",
       "    <tr>\n",
       "      <th>2016-02-01</th>\n",
       "      <td>1100</td>\n",
       "      <td>5</td>\n",
       "    </tr>\n",
       "    <tr>\n",
       "      <th>2016-02-02</th>\n",
       "      <td>1194</td>\n",
       "      <td>8</td>\n",
       "    </tr>\n",
       "    <tr>\n",
       "      <th>2016-02-03</th>\n",
       "      <td>1360</td>\n",
       "      <td>8</td>\n",
       "    </tr>\n",
       "    <tr>\n",
       "      <th>2016-02-04</th>\n",
       "      <td>1320</td>\n",
       "      <td>8</td>\n",
       "    </tr>\n",
       "    <tr>\n",
       "      <th>2016-02-05</th>\n",
       "      <td>931</td>\n",
       "      <td>2</td>\n",
       "    </tr>\n",
       "    <tr>\n",
       "      <th>2016-02-06</th>\n",
       "      <td>404</td>\n",
       "      <td>2</td>\n",
       "    </tr>\n",
       "    <tr>\n",
       "      <th>2016-02-07</th>\n",
       "      <td>628</td>\n",
       "      <td>17</td>\n",
       "    </tr>\n",
       "    <tr>\n",
       "      <th>2016-02-08</th>\n",
       "      <td>636</td>\n",
       "      <td>1</td>\n",
       "    </tr>\n",
       "    <tr>\n",
       "      <th>2016-02-09</th>\n",
       "      <td>1235</td>\n",
       "      <td>3</td>\n",
       "    </tr>\n",
       "    <tr>\n",
       "      <th>2016-02-10</th>\n",
       "      <td>1623</td>\n",
       "      <td>4</td>\n",
       "    </tr>\n",
       "    <tr>\n",
       "      <th>2016-02-11</th>\n",
       "      <td>959</td>\n",
       "      <td>12</td>\n",
       "    </tr>\n",
       "    <tr>\n",
       "      <th>2016-02-12</th>\n",
       "      <td>611</td>\n",
       "      <td>7</td>\n",
       "    </tr>\n",
       "    <tr>\n",
       "      <th>2016-02-13</th>\n",
       "      <td>1034</td>\n",
       "      <td>2</td>\n",
       "    </tr>\n",
       "    <tr>\n",
       "      <th>2016-02-14</th>\n",
       "      <td>929</td>\n",
       "      <td>3</td>\n",
       "    </tr>\n",
       "    <tr>\n",
       "      <th>2016-02-15</th>\n",
       "      <td>1892</td>\n",
       "      <td>4</td>\n",
       "    </tr>\n",
       "    <tr>\n",
       "      <th>2016-02-16</th>\n",
       "      <td>1723</td>\n",
       "      <td>9</td>\n",
       "    </tr>\n",
       "    <tr>\n",
       "      <th>2016-02-17</th>\n",
       "      <td>1471</td>\n",
       "      <td>9</td>\n",
       "    </tr>\n",
       "    <tr>\n",
       "      <th>2016-02-18</th>\n",
       "      <td>1429</td>\n",
       "      <td>7</td>\n",
       "    </tr>\n",
       "    <tr>\n",
       "      <th>2016-02-19</th>\n",
       "      <td>1334</td>\n",
       "      <td>4</td>\n",
       "    </tr>\n",
       "    <tr>\n",
       "      <th>2016-02-20</th>\n",
       "      <td>860</td>\n",
       "      <td>5</td>\n",
       "    </tr>\n",
       "    <tr>\n",
       "      <th>2016-02-21</th>\n",
       "      <td>954</td>\n",
       "      <td>4</td>\n",
       "    </tr>\n",
       "    <tr>\n",
       "      <th>2016-02-22</th>\n",
       "      <td>1866</td>\n",
       "      <td>0</td>\n",
       "    </tr>\n",
       "    <tr>\n",
       "      <th>2016-02-23</th>\n",
       "      <td>1737</td>\n",
       "      <td>4</td>\n",
       "    </tr>\n",
       "    <tr>\n",
       "      <th>2016-02-24</th>\n",
       "      <td>1577</td>\n",
       "      <td>12</td>\n",
       "    </tr>\n",
       "    <tr>\n",
       "      <th>2016-02-25</th>\n",
       "      <td>2074</td>\n",
       "      <td>8</td>\n",
       "    </tr>\n",
       "    <tr>\n",
       "      <th>2016-02-26</th>\n",
       "      <td>1865</td>\n",
       "      <td>7</td>\n",
       "    </tr>\n",
       "    <tr>\n",
       "      <th>2016-02-27</th>\n",
       "      <td>1670</td>\n",
       "      <td>5</td>\n",
       "    </tr>\n",
       "    <tr>\n",
       "      <th>2016-02-28</th>\n",
       "      <td>2211</td>\n",
       "      <td>9</td>\n",
       "    </tr>\n",
       "  </tbody>\n",
       "</table>\n",
       "</div>"
      ],
      "text/plain": [
       "Chargeback     N   S\n",
       "Date                \n",
       "2016-01-01   505   3\n",
       "2016-01-02   511   4\n",
       "2016-01-03   424   0\n",
       "2016-01-04   920   3\n",
       "2016-01-05  1336   7\n",
       "2016-01-06  1395   4\n",
       "2016-01-07  1334  12\n",
       "2016-01-08  1005   5\n",
       "2016-01-09   741   1\n",
       "2016-01-10   692   4\n",
       "2016-01-11  1362   5\n",
       "2016-01-12  1048   4\n",
       "2016-01-13  1455   3\n",
       "2016-01-14  1341   4\n",
       "2016-01-15  1124   7\n",
       "2016-01-16   898   4\n",
       "2016-01-17   895   5\n",
       "2016-01-18  1141   6\n",
       "2016-01-19  1059   7\n",
       "2016-01-20  1012   4\n",
       "2016-01-21  1377   8\n",
       "2016-01-22  1314   9\n",
       "2016-01-23   779   2\n",
       "2016-01-24   663   7\n",
       "2016-01-25  1165   0\n",
       "2016-01-26  1541   9\n",
       "2016-01-27  1543   6\n",
       "2016-01-28  1776   6\n",
       "2016-01-29  1641   2\n",
       "2016-01-30  1085   2\n",
       "2016-01-31  1666   6\n",
       "2016-02-01  1100   5\n",
       "2016-02-02  1194   8\n",
       "2016-02-03  1360   8\n",
       "2016-02-04  1320   8\n",
       "2016-02-05   931   2\n",
       "2016-02-06   404   2\n",
       "2016-02-07   628  17\n",
       "2016-02-08   636   1\n",
       "2016-02-09  1235   3\n",
       "2016-02-10  1623   4\n",
       "2016-02-11   959  12\n",
       "2016-02-12   611   7\n",
       "2016-02-13  1034   2\n",
       "2016-02-14   929   3\n",
       "2016-02-15  1892   4\n",
       "2016-02-16  1723   9\n",
       "2016-02-17  1471   9\n",
       "2016-02-18  1429   7\n",
       "2016-02-19  1334   4\n",
       "2016-02-20   860   5\n",
       "2016-02-21   954   4\n",
       "2016-02-22  1866   0\n",
       "2016-02-23  1737   4\n",
       "2016-02-24  1577  12\n",
       "2016-02-25  2074   8\n",
       "2016-02-26  1865   7\n",
       "2016-02-27  1670   5\n",
       "2016-02-28  2211   9"
      ]
     },
     "execution_count": 17,
     "metadata": {},
     "output_type": "execute_result"
    }
   ],
   "source": [
    "# Analisando os chargebacks pelos dias\n",
    "pd.crosstab(df2['Date'], df2['Chargeback'])"
   ]
  },
  {
   "cell_type": "markdown",
   "metadata": {},
   "source": [
    "Sexta feira são os dias que possuem mais transações\n",
    "\n",
    "day of the week can help explain frauds\n",
    "No fraud valued above £1000 per day."
   ]
  },
  {
   "cell_type": "code",
   "execution_count": 18,
   "metadata": {},
   "outputs": [
    {
     "data": {
      "text/plain": [
       "59"
      ]
     },
     "execution_count": 18,
     "metadata": {},
     "output_type": "execute_result"
    }
   ],
   "source": [
    "# Quantos dias tem o dataset no total?\n",
    "len(df2['Date'].unique())"
   ]
  },
  {
   "cell_type": "code",
   "execution_count": 19,
   "metadata": {},
   "outputs": [
    {
     "data": {
      "text/plain": [
       "2016-02-28    2220\n",
       "2016-02-25    2082\n",
       "2016-02-15    1896\n",
       "2016-02-26    1872\n",
       "2016-02-22    1866\n",
       "2016-01-28    1782\n",
       "2016-02-23    1741\n",
       "2016-02-16    1732\n",
       "2016-02-27    1675\n",
       "2016-01-31    1672\n",
       "2016-01-29    1643\n",
       "2016-02-10    1627\n",
       "2016-02-24    1589\n",
       "2016-01-26    1550\n",
       "2016-01-27    1549\n",
       "2016-02-17    1480\n",
       "2016-01-13    1458\n",
       "2016-02-18    1436\n",
       "2016-01-06    1399\n",
       "2016-01-21    1385\n",
       "2016-02-03    1368\n",
       "2016-01-11    1367\n",
       "2016-01-07    1346\n",
       "2016-01-14    1345\n",
       "2016-01-05    1343\n",
       "2016-02-19    1338\n",
       "2016-02-04    1328\n",
       "2016-01-22    1323\n",
       "2016-02-09    1238\n",
       "2016-02-02    1202\n",
       "2016-01-25    1165\n",
       "2016-01-18    1147\n",
       "2016-01-15    1131\n",
       "2016-02-01    1105\n",
       "2016-01-30    1087\n",
       "2016-01-19    1066\n",
       "2016-01-12    1052\n",
       "2016-02-13    1036\n",
       "2016-01-20    1016\n",
       "2016-01-08    1010\n",
       "2016-02-11     971\n",
       "2016-02-21     958\n",
       "2016-02-05     933\n",
       "2016-02-14     932\n",
       "2016-01-04     923\n",
       "2016-01-16     902\n",
       "2016-01-17     900\n",
       "2016-02-20     865\n",
       "2016-01-23     781\n",
       "2016-01-09     742\n",
       "2016-01-10     696\n",
       "2016-01-24     670\n",
       "2016-02-07     645\n",
       "2016-02-08     637\n",
       "2016-02-12     618\n",
       "2016-01-02     515\n",
       "2016-01-01     508\n",
       "2016-01-03     424\n",
       "2016-02-06     406\n",
       "Name: Date, dtype: int64"
      ]
     },
     "execution_count": 19,
     "metadata": {},
     "output_type": "execute_result"
    }
   ],
   "source": [
    "# Vendo quais datas tiveram mais transações\n",
    "df2['Date'].value_counts()"
   ]
  },
  {
   "cell_type": "code",
   "execution_count": 20,
   "metadata": {},
   "outputs": [
    {
     "data": {
      "text/plain": [
       "2016-01-01     508\n",
       "2016-01-02     515\n",
       "2016-01-03     424\n",
       "2016-01-04     923\n",
       "2016-01-05    1343\n",
       "2016-01-06    1399\n",
       "2016-01-07    1346\n",
       "2016-01-08    1010\n",
       "2016-01-09     742\n",
       "2016-01-10     696\n",
       "2016-01-11    1367\n",
       "2016-01-12    1052\n",
       "2016-01-13    1458\n",
       "2016-01-14    1345\n",
       "2016-01-15    1131\n",
       "2016-01-16     902\n",
       "2016-01-17     900\n",
       "2016-01-18    1147\n",
       "2016-01-19    1066\n",
       "2016-01-20    1016\n",
       "2016-01-21    1385\n",
       "2016-01-22    1323\n",
       "2016-01-23     781\n",
       "2016-01-24     670\n",
       "2016-01-25    1165\n",
       "2016-01-26    1550\n",
       "2016-01-27    1549\n",
       "2016-01-28    1782\n",
       "2016-01-29    1643\n",
       "2016-01-30    1087\n",
       "2016-01-31    1672\n",
       "2016-02-01    1105\n",
       "2016-02-02    1202\n",
       "2016-02-03    1368\n",
       "2016-02-04    1328\n",
       "2016-02-05     933\n",
       "2016-02-06     406\n",
       "2016-02-07     645\n",
       "2016-02-08     637\n",
       "2016-02-09    1238\n",
       "2016-02-10    1627\n",
       "2016-02-11     971\n",
       "2016-02-12     618\n",
       "2016-02-13    1036\n",
       "2016-02-14     932\n",
       "2016-02-15    1896\n",
       "2016-02-16    1732\n",
       "2016-02-17    1480\n",
       "2016-02-18    1436\n",
       "2016-02-19    1338\n",
       "2016-02-20     865\n",
       "2016-02-21     958\n",
       "2016-02-22    1866\n",
       "2016-02-23    1741\n",
       "2016-02-24    1589\n",
       "2016-02-25    2082\n",
       "2016-02-26    1872\n",
       "2016-02-27    1675\n",
       "2016-02-28    2220\n",
       "Name: Date, dtype: int64"
      ]
     },
     "execution_count": 20,
     "metadata": {},
     "output_type": "execute_result"
    }
   ],
   "source": [
    "# Ordenando da menor data até a maior data\n",
    "df2['Date'].value_counts().sort_index()"
   ]
  },
  {
   "cell_type": "code",
   "execution_count": 21,
   "metadata": {},
   "outputs": [
    {
     "data": {
      "text/plain": [
       "<matplotlib.axes._subplots.AxesSubplot at 0x209126bd670>"
      ]
     },
     "execution_count": 21,
     "metadata": {},
     "output_type": "execute_result"
    },
    {
     "data": {
      "image/png": "[encoded data removed]",
      "text/plain": [
       "<Figure size 1440x576 with 1 Axes>"
      ]
     },
     "metadata": {
      "needs_background": "light"
     },
     "output_type": "display_data"
    }
   ],
   "source": [
    "# Plot das transações por dias\n",
    "df2['Date'].value_counts().sort_index().plot.bar(figsize = (20, 8))"
   ]
  },
  {
   "cell_type": "markdown",
   "metadata": {},
   "source": [
    "O útimo dia do dataset com certeza foi o dia que teve maior quantidade de transações, e as segundas feiras, especialmente nos começos de mês são os dias em que há menor quantidade de transações."
   ]
  },
  {
   "cell_type": "code",
   "execution_count": 22,
   "metadata": {},
   "outputs": [
    {
     "data": {
      "text/plain": [
       "Text(0.5, 0, 'Chargeback')"
      ]
     },
     "execution_count": 22,
     "metadata": {},
     "output_type": "execute_result"
    },
    {
     "data": {
      "image/png": "[encoded data removed]",
      "text/plain": [
       "<Figure size 864x576 with 1 Axes>"
      ]
     },
     "metadata": {
      "needs_background": "light"
     },
     "output_type": "display_data"
    }
   ],
   "source": [
    "# Plot de gráfico para contagem dos chargebacks\n",
    "f, ax = plt.subplots(figsize=(12,8))\n",
    "_ = sns.countplot(x='Chargeback', data=df2)\n",
    "plt.title('Contagem dos Chargebaks')\n",
    "plt.ylabel('Transações')\n",
    "plt.xlabel('Chargeback')"
   ]
  },
  {
   "cell_type": "code",
   "execution_count": 23,
   "metadata": {},
   "outputs": [
    {
     "data": {
      "text/plain": [
       "N    71375\n",
       "S      318\n",
       "Name: Chargeback, dtype: int64"
      ]
     },
     "execution_count": 23,
     "metadata": {},
     "output_type": "execute_result"
    }
   ],
   "source": [
    "df2['Chargeback'].value_counts()"
   ]
  },
  {
   "cell_type": "code",
   "execution_count": 24,
   "metadata": {},
   "outputs": [
    {
     "data": {
      "text/plain": [
       "<matplotlib.axes._subplots.AxesSubplot at 0x2091343bbe0>"
      ]
     },
     "execution_count": 24,
     "metadata": {},
     "output_type": "execute_result"
    },
    {
     "data": {
      "image/png": "[encoded data removed]",
      "text/plain": [
       "<Figure size 432x288 with 1 Axes>"
      ]
     },
     "metadata": {
      "needs_background": "light"
     },
     "output_type": "display_data"
    }
   ],
   "source": [
    "# Criando um bloxplot para analisar os valores \n",
    "sns.boxplot(data = df2, x = 'Chargeback', y = 'Valor')"
   ]
  },
  {
   "cell_type": "code",
   "execution_count": 25,
   "metadata": {},
   "outputs": [
    {
     "name": "stdout",
     "output_type": "stream",
     "text": [
      "O valor total das transações foi de: R$ 29401196.42\n",
      "O valor total das transações que tiveram Chargeback foi de: R$ 151742.63\n",
      "O valor total das transações que não tiveram Chargeback foi de: R$ 29249453.79\n"
     ]
    }
   ],
   "source": [
    "# Analisando os valores\n",
    "valor_total = df2['Valor'].sum()\n",
    "valor_total_com_chargeback = df2.query('Chargeback == \"S\"')['Valor'].sum()\n",
    "valor_total_sem_chargeback = df2.query('Chargeback == \"N\"')['Valor'].sum()\n",
    "\n",
    "print(\"O valor total das transações foi de: R$\",valor_total)\n",
    "print(\"O valor total das transações que tiveram Chargeback foi de: R$\",valor_total_com_chargeback)\n",
    "print(\"O valor total das transações que não tiveram Chargeback foi de: R$\",valor_total_sem_chargeback)"
   ]
  },
  {
   "cell_type": "markdown",
   "metadata": {},
   "source": [
    "As transações no geral são de valores baixos, concentrados até 600 reais.<br>\n",
    "O cliente informou que possui alto índice de chargebacks, porém analisando o dataset das 71693 transações, apenas 318 transações tiveram chargeback, o que não representa nem 0.5% do total.<br>\n",
    "Mesmo fazendo uma análise em relação a valores totais, os valores das transações que tiveram Chargeback, também representam cerca de 0.5% do total."
   ]
  },
  {
   "cell_type": "markdown",
   "metadata": {},
   "source": [
    "## Analisando os cartões de crédito"
   ]
  },
  {
   "cell_type": "code",
   "execution_count": 26,
   "metadata": {},
   "outputs": [
    {
     "data": {
      "text/plain": [
       "1000027976840600    264\n",
       "1000031908398990     71\n",
       "1000031117598080     70\n",
       "1000031907985140     47\n",
       "1000039956692370     43\n",
       "                   ... \n",
       "1000097568123150      1\n",
       "1000037645481870      1\n",
       "1000087333930880      1\n",
       "1000028478691210      1\n",
       "1000107356559050      1\n",
       "Name: CardNumber, Length: 52024, dtype: int64"
      ]
     },
     "execution_count": 26,
     "metadata": {},
     "output_type": "execute_result"
    }
   ],
   "source": [
    "# Fazendo um value_counts para ver a frequência dos cartões\n",
    "df2['CardNumber'].value_counts()"
   ]
  },
  {
   "cell_type": "code",
   "execution_count": 27,
   "metadata": {},
   "outputs": [
    {
     "data": {
      "text/plain": [
       "<matplotlib.axes._subplots.AxesSubplot at 0x209131cb2b0>"
      ]
     },
     "execution_count": 27,
     "metadata": {},
     "output_type": "execute_result"
    },
    {
     "data": {
      "image/png": "[encoded data removed]",
      "text/plain": [
       "<Figure size 432x288 with 1 Axes>"
      ]
     },
     "metadata": {
      "needs_background": "light"
     },
     "output_type": "display_data"
    }
   ],
   "source": [
    "# Plotando um gráfico para ver a frequência das compras por hora\n",
    "sns.histplot(df2['SoHora'], bins=30, kde = False)"
   ]
  },
  {
   "cell_type": "code",
   "execution_count": 28,
   "metadata": {
    "scrolled": true
   },
   "outputs": [
    {
     "data": {
      "text/plain": [
       "515590    2646\n",
       "498401    2500\n",
       "422061    2474\n",
       "498453    2310\n",
       "498408    1962\n",
       "          ... \n",
       "545430       1\n",
       "483312       1\n",
       "499969       1\n",
       "498530       1\n",
       "529053       1\n",
       "Name: Bin, Length: 707, dtype: int64"
      ]
     },
     "execution_count": 28,
     "metadata": {},
     "output_type": "execute_result"
    }
   ],
   "source": [
    "# Olhando a frequência dos bins\n",
    "df2['Bin'].value_counts()"
   ]
  },
  {
   "cell_type": "markdown",
   "metadata": {},
   "source": [
    "Há 707 bins diferentes para 52024 cartões"
   ]
  },
  {
   "cell_type": "markdown",
   "metadata": {},
   "source": [
    "### Vamos dar uma olhadinha no cartão que teve maior número de transações"
   ]
  },
  {
   "cell_type": "code",
   "execution_count": 29,
   "metadata": {},
   "outputs": [
    {
     "data": {
      "text/html": [
       "<div>\n",
       "<style scoped>\n",
       "    .dataframe tbody tr th:only-of-type {\n",
       "        vertical-align: middle;\n",
       "    }\n",
       "\n",
       "    .dataframe tbody tr th {\n",
       "        vertical-align: top;\n",
       "    }\n",
       "\n",
       "    .dataframe thead th {\n",
       "        text-align: right;\n",
       "    }\n",
       "</style>\n",
       "<table border=\"1\" class=\"dataframe\">\n",
       "  <thead>\n",
       "    <tr style=\"text-align: right;\">\n",
       "      <th></th>\n",
       "      <th>DayOfWeek</th>\n",
       "      <th>Date</th>\n",
       "      <th>Hora</th>\n",
       "      <th>CardNumber</th>\n",
       "      <th>Bin</th>\n",
       "      <th>Valor</th>\n",
       "      <th>Chargeback</th>\n",
       "      <th>ChargebackDate</th>\n",
       "      <th>ChargebackHour</th>\n",
       "      <th>DaysToChargeback</th>\n",
       "      <th>SoHora</th>\n",
       "    </tr>\n",
       "  </thead>\n",
       "  <tbody>\n",
       "    <tr>\n",
       "      <th>22</th>\n",
       "      <td>Sábado</td>\n",
       "      <td>2016-01-01</td>\n",
       "      <td>06:42:32</td>\n",
       "      <td>1000027976840600</td>\n",
       "      <td>498408</td>\n",
       "      <td>2750.0</td>\n",
       "      <td>N</td>\n",
       "      <td>NaT</td>\n",
       "      <td>NaN</td>\n",
       "      <td>NaN</td>\n",
       "      <td>6</td>\n",
       "    </tr>\n",
       "    <tr>\n",
       "      <th>23</th>\n",
       "      <td>Sábado</td>\n",
       "      <td>2016-01-01</td>\n",
       "      <td>06:44:57</td>\n",
       "      <td>1000027976840600</td>\n",
       "      <td>498408</td>\n",
       "      <td>2475.0</td>\n",
       "      <td>N</td>\n",
       "      <td>NaT</td>\n",
       "      <td>NaN</td>\n",
       "      <td>NaN</td>\n",
       "      <td>6</td>\n",
       "    </tr>\n",
       "    <tr>\n",
       "      <th>25</th>\n",
       "      <td>Sábado</td>\n",
       "      <td>2016-01-01</td>\n",
       "      <td>06:53:38</td>\n",
       "      <td>1000027976840600</td>\n",
       "      <td>498408</td>\n",
       "      <td>2200.0</td>\n",
       "      <td>N</td>\n",
       "      <td>NaT</td>\n",
       "      <td>NaN</td>\n",
       "      <td>NaN</td>\n",
       "      <td>6</td>\n",
       "    </tr>\n",
       "    <tr>\n",
       "      <th>27</th>\n",
       "      <td>Sábado</td>\n",
       "      <td>2016-01-01</td>\n",
       "      <td>07:46:04</td>\n",
       "      <td>1000027976840600</td>\n",
       "      <td>498408</td>\n",
       "      <td>1925.0</td>\n",
       "      <td>N</td>\n",
       "      <td>NaT</td>\n",
       "      <td>NaN</td>\n",
       "      <td>NaN</td>\n",
       "      <td>7</td>\n",
       "    </tr>\n",
       "    <tr>\n",
       "      <th>28</th>\n",
       "      <td>Sábado</td>\n",
       "      <td>2016-01-01</td>\n",
       "      <td>07:47:51</td>\n",
       "      <td>1000027976840600</td>\n",
       "      <td>498408</td>\n",
       "      <td>1650.0</td>\n",
       "      <td>N</td>\n",
       "      <td>NaT</td>\n",
       "      <td>NaN</td>\n",
       "      <td>NaN</td>\n",
       "      <td>7</td>\n",
       "    </tr>\n",
       "    <tr>\n",
       "      <th>29</th>\n",
       "      <td>Sábado</td>\n",
       "      <td>2016-01-01</td>\n",
       "      <td>07:50:42</td>\n",
       "      <td>1000027976840600</td>\n",
       "      <td>498408</td>\n",
       "      <td>550.0</td>\n",
       "      <td>N</td>\n",
       "      <td>NaT</td>\n",
       "      <td>NaN</td>\n",
       "      <td>NaN</td>\n",
       "      <td>7</td>\n",
       "    </tr>\n",
       "    <tr>\n",
       "      <th>30</th>\n",
       "      <td>Sábado</td>\n",
       "      <td>2016-01-01</td>\n",
       "      <td>07:55:43</td>\n",
       "      <td>1000027976840600</td>\n",
       "      <td>498408</td>\n",
       "      <td>495.0</td>\n",
       "      <td>N</td>\n",
       "      <td>NaT</td>\n",
       "      <td>NaN</td>\n",
       "      <td>NaN</td>\n",
       "      <td>7</td>\n",
       "    </tr>\n",
       "    <tr>\n",
       "      <th>37</th>\n",
       "      <td>Sábado</td>\n",
       "      <td>2016-01-01</td>\n",
       "      <td>09:35:42</td>\n",
       "      <td>1000027976840600</td>\n",
       "      <td>498408</td>\n",
       "      <td>440.0</td>\n",
       "      <td>N</td>\n",
       "      <td>NaT</td>\n",
       "      <td>NaN</td>\n",
       "      <td>NaN</td>\n",
       "      <td>9</td>\n",
       "    </tr>\n",
       "    <tr>\n",
       "      <th>39</th>\n",
       "      <td>Sábado</td>\n",
       "      <td>2016-01-01</td>\n",
       "      <td>09:35:43</td>\n",
       "      <td>1000027976840600</td>\n",
       "      <td>498408</td>\n",
       "      <td>385.0</td>\n",
       "      <td>N</td>\n",
       "      <td>NaT</td>\n",
       "      <td>NaN</td>\n",
       "      <td>NaN</td>\n",
       "      <td>9</td>\n",
       "    </tr>\n",
       "    <tr>\n",
       "      <th>40</th>\n",
       "      <td>Sábado</td>\n",
       "      <td>2016-01-01</td>\n",
       "      <td>09:35:46</td>\n",
       "      <td>1000027976840600</td>\n",
       "      <td>498408</td>\n",
       "      <td>330.0</td>\n",
       "      <td>N</td>\n",
       "      <td>NaT</td>\n",
       "      <td>NaN</td>\n",
       "      <td>NaN</td>\n",
       "      <td>9</td>\n",
       "    </tr>\n",
       "  </tbody>\n",
       "</table>\n",
       "</div>"
      ],
      "text/plain": [
       "   DayOfWeek       Date      Hora        CardNumber     Bin   Valor  \\\n",
       "22    Sábado 2016-01-01  06:42:32  1000027976840600  498408  2750.0   \n",
       "23    Sábado 2016-01-01  06:44:57  1000027976840600  498408  2475.0   \n",
       "25    Sábado 2016-01-01  06:53:38  1000027976840600  498408  2200.0   \n",
       "27    Sábado 2016-01-01  07:46:04  1000027976840600  498408  1925.0   \n",
       "28    Sábado 2016-01-01  07:47:51  1000027976840600  498408  1650.0   \n",
       "29    Sábado 2016-01-01  07:50:42  1000027976840600  498408   550.0   \n",
       "30    Sábado 2016-01-01  07:55:43  1000027976840600  498408   495.0   \n",
       "37    Sábado 2016-01-01  09:35:42  1000027976840600  498408   440.0   \n",
       "39    Sábado 2016-01-01  09:35:43  1000027976840600  498408   385.0   \n",
       "40    Sábado 2016-01-01  09:35:46  1000027976840600  498408   330.0   \n",
       "\n",
       "   Chargeback ChargebackDate ChargebackHour  DaysToChargeback  SoHora  \n",
       "22          N            NaT            NaN               NaN       6  \n",
       "23          N            NaT            NaN               NaN       6  \n",
       "25          N            NaT            NaN               NaN       6  \n",
       "27          N            NaT            NaN               NaN       7  \n",
       "28          N            NaT            NaN               NaN       7  \n",
       "29          N            NaT            NaN               NaN       7  \n",
       "30          N            NaT            NaN               NaN       7  \n",
       "37          N            NaT            NaN               NaN       9  \n",
       "39          N            NaT            NaN               NaN       9  \n",
       "40          N            NaT            NaN               NaN       9  "
      ]
     },
     "execution_count": 29,
     "metadata": {},
     "output_type": "execute_result"
    }
   ],
   "source": [
    "# Criando um df só desse cartão\n",
    "most_used_card = df2.query('CardNumber == 1000027976840600')\n",
    "most_used_card.head(10)"
   ]
  },
  {
   "cell_type": "code",
   "execution_count": 30,
   "metadata": {},
   "outputs": [
    {
     "data": {
      "text/html": [
       "<div>\n",
       "<style scoped>\n",
       "    .dataframe tbody tr th:only-of-type {\n",
       "        vertical-align: middle;\n",
       "    }\n",
       "\n",
       "    .dataframe tbody tr th {\n",
       "        vertical-align: top;\n",
       "    }\n",
       "\n",
       "    .dataframe thead th {\n",
       "        text-align: right;\n",
       "    }\n",
       "</style>\n",
       "<table border=\"1\" class=\"dataframe\">\n",
       "  <thead>\n",
       "    <tr style=\"text-align: right;\">\n",
       "      <th></th>\n",
       "      <th>CardNumber</th>\n",
       "      <th>Bin</th>\n",
       "      <th>Valor</th>\n",
       "      <th>DaysToChargeback</th>\n",
       "      <th>SoHora</th>\n",
       "    </tr>\n",
       "  </thead>\n",
       "  <tbody>\n",
       "    <tr>\n",
       "      <th>count</th>\n",
       "      <td>2.640000e+02</td>\n",
       "      <td>264.0</td>\n",
       "      <td>264.000000</td>\n",
       "      <td>0.0</td>\n",
       "      <td>264.000000</td>\n",
       "    </tr>\n",
       "    <tr>\n",
       "      <th>mean</th>\n",
       "      <td>1.000028e+15</td>\n",
       "      <td>498408.0</td>\n",
       "      <td>819.321970</td>\n",
       "      <td>NaN</td>\n",
       "      <td>12.185606</td>\n",
       "    </tr>\n",
       "    <tr>\n",
       "      <th>std</th>\n",
       "      <td>5.886159e+00</td>\n",
       "      <td>0.0</td>\n",
       "      <td>901.593388</td>\n",
       "      <td>NaN</td>\n",
       "      <td>4.830946</td>\n",
       "    </tr>\n",
       "    <tr>\n",
       "      <th>min</th>\n",
       "      <td>1.000028e+15</td>\n",
       "      <td>498408.0</td>\n",
       "      <td>26.000000</td>\n",
       "      <td>NaN</td>\n",
       "      <td>0.000000</td>\n",
       "    </tr>\n",
       "    <tr>\n",
       "      <th>25%</th>\n",
       "      <td>1.000028e+15</td>\n",
       "      <td>498408.0</td>\n",
       "      <td>275.000000</td>\n",
       "      <td>NaN</td>\n",
       "      <td>9.000000</td>\n",
       "    </tr>\n",
       "    <tr>\n",
       "      <th>50%</th>\n",
       "      <td>1.000028e+15</td>\n",
       "      <td>498408.0</td>\n",
       "      <td>510.000000</td>\n",
       "      <td>NaN</td>\n",
       "      <td>12.000000</td>\n",
       "    </tr>\n",
       "    <tr>\n",
       "      <th>75%</th>\n",
       "      <td>1.000028e+15</td>\n",
       "      <td>498408.0</td>\n",
       "      <td>825.000000</td>\n",
       "      <td>NaN</td>\n",
       "      <td>15.000000</td>\n",
       "    </tr>\n",
       "    <tr>\n",
       "      <th>max</th>\n",
       "      <td>1.000028e+15</td>\n",
       "      <td>498408.0</td>\n",
       "      <td>2750.000000</td>\n",
       "      <td>NaN</td>\n",
       "      <td>23.000000</td>\n",
       "    </tr>\n",
       "  </tbody>\n",
       "</table>\n",
       "</div>"
      ],
      "text/plain": [
       "         CardNumber       Bin        Valor  DaysToChargeback      SoHora\n",
       "count  2.640000e+02     264.0   264.000000               0.0  264.000000\n",
       "mean   1.000028e+15  498408.0   819.321970               NaN   12.185606\n",
       "std    5.886159e+00       0.0   901.593388               NaN    4.830946\n",
       "min    1.000028e+15  498408.0    26.000000               NaN    0.000000\n",
       "25%    1.000028e+15  498408.0   275.000000               NaN    9.000000\n",
       "50%    1.000028e+15  498408.0   510.000000               NaN   12.000000\n",
       "75%    1.000028e+15  498408.0   825.000000               NaN   15.000000\n",
       "max    1.000028e+15  498408.0  2750.000000               NaN   23.000000"
      ]
     },
     "execution_count": 30,
     "metadata": {},
     "output_type": "execute_result"
    }
   ],
   "source": [
    "# Analisando os valores numéricos\n",
    "most_used_card.describe()"
   ]
  },
  {
   "cell_type": "code",
   "execution_count": 31,
   "metadata": {},
   "outputs": [
    {
     "data": {
      "text/plain": [
       "N    264\n",
       "Name: Chargeback, dtype: int64"
      ]
     },
     "execution_count": 31,
     "metadata": {},
     "output_type": "execute_result"
    }
   ],
   "source": [
    "# Analisando o índice de chargeback desse cartão\n",
    "most_used_card['Chargeback'].value_counts()"
   ]
  },
  {
   "cell_type": "code",
   "execution_count": 32,
   "metadata": {},
   "outputs": [
    {
     "data": {
      "text/plain": [
       "44"
      ]
     },
     "execution_count": 32,
     "metadata": {},
     "output_type": "execute_result"
    }
   ],
   "source": [
    "# Analisando a quantidade de dias que esse cartão realizou transações\n",
    "len(most_used_card['Date'].value_counts())"
   ]
  },
  {
   "cell_type": "code",
   "execution_count": 33,
   "metadata": {},
   "outputs": [
    {
     "data": {
      "text/plain": [
       "2016-02-02    21\n",
       "2016-02-01    21\n",
       "2016-02-23    17\n",
       "2016-01-01    17\n",
       "2016-02-18    15\n",
       "2016-01-16    12\n",
       "2016-02-03    12\n",
       "2016-01-15    11\n",
       "2016-02-16    11\n",
       "2016-02-09    10\n",
       "2016-01-11    10\n",
       "2016-02-13     8\n",
       "2016-01-09     7\n",
       "2016-02-11     5\n",
       "2016-02-04     5\n",
       "2016-01-06     5\n",
       "2016-01-13     5\n",
       "2016-01-10     5\n",
       "2016-02-14     4\n",
       "2016-01-17     4\n",
       "2016-01-26     4\n",
       "2016-02-15     4\n",
       "2016-01-29     4\n",
       "2016-01-07     4\n",
       "2016-02-08     4\n",
       "2016-01-04     4\n",
       "2016-01-14     3\n",
       "2016-01-02     3\n",
       "2016-01-30     3\n",
       "2016-02-10     3\n",
       "2016-01-24     3\n",
       "2016-01-12     3\n",
       "2016-01-28     2\n",
       "2016-02-06     2\n",
       "2016-01-23     2\n",
       "2016-02-24     2\n",
       "2016-02-25     2\n",
       "2016-01-21     1\n",
       "2016-01-31     1\n",
       "2016-02-22     1\n",
       "2016-01-19     1\n",
       "2016-01-27     1\n",
       "2016-02-07     1\n",
       "2016-02-28     1\n",
       "Name: Date, dtype: int64"
      ]
     },
     "execution_count": 33,
     "metadata": {},
     "output_type": "execute_result"
    }
   ],
   "source": [
    "# Analisando quais foram os dias e quantas vezes ele realizou transações\n",
    "most_used_card['Date'].value_counts()"
   ]
  },
  {
   "cell_type": "code",
   "execution_count": 34,
   "metadata": {},
   "outputs": [
    {
     "data": {
      "text/plain": [
       "216301.0"
      ]
     },
     "execution_count": 34,
     "metadata": {},
     "output_type": "execute_result"
    }
   ],
   "source": [
    "most_used_card['Valor'].sum()"
   ]
  },
  {
   "cell_type": "markdown",
   "metadata": {},
   "source": [
    "### Qual é o comportamento transacional do cliente (o que caracteriza as transações deste cliente)?\n",
    "\n",
    "- Sexta feira é o dia que há maior quantidade de transações e domingo menor quantidade de transações;\n",
    "- O dataset tem um período de 59 dias e não 8 dias;\n",
    "- O dia 28/02 foi o dia que foram realizadas maiores quantidades de transações;\n",
    "- O cartão 1000027976840600 foi o cartão que mais realizou transações, totalizando 271 transações dentro do período de 59 dias, apesar nenhuma delas terem tido chargeback, ;\n",
    "- A maioria das transações são realizadas entre 11hrs e quase não realiza de madrugada;\n",
    "- A maior compra tem valor de 4962.50 e a menor 9.65;\n",
    "- A média das transações são de 410.10;\n",
    "- A maioria das transações não ultrapassam valor de 1000;\n",
    "- Final de fevereiro foram os dias com as maiores vendas"
   ]
  },
  {
   "cell_type": "markdown",
   "metadata": {},
   "source": [
    "# Análise dos Chargebakcs"
   ]
  },
  {
   "cell_type": "code",
   "execution_count": 35,
   "metadata": {},
   "outputs": [
    {
     "data": {
      "text/html": [
       "<div>\n",
       "<style scoped>\n",
       "    .dataframe tbody tr th:only-of-type {\n",
       "        vertical-align: middle;\n",
       "    }\n",
       "\n",
       "    .dataframe tbody tr th {\n",
       "        vertical-align: top;\n",
       "    }\n",
       "\n",
       "    .dataframe thead th {\n",
       "        text-align: right;\n",
       "    }\n",
       "</style>\n",
       "<table border=\"1\" class=\"dataframe\">\n",
       "  <thead>\n",
       "    <tr style=\"text-align: right;\">\n",
       "      <th></th>\n",
       "      <th>DayOfWeek</th>\n",
       "      <th>Date</th>\n",
       "      <th>Hora</th>\n",
       "      <th>CardNumber</th>\n",
       "      <th>Bin</th>\n",
       "      <th>Valor</th>\n",
       "      <th>Chargeback</th>\n",
       "      <th>ChargebackDate</th>\n",
       "      <th>ChargebackHour</th>\n",
       "      <th>DaysToChargeback</th>\n",
       "      <th>SoHora</th>\n",
       "    </tr>\n",
       "  </thead>\n",
       "  <tbody>\n",
       "    <tr>\n",
       "      <th>92</th>\n",
       "      <td>Sábado</td>\n",
       "      <td>2016-01-01</td>\n",
       "      <td>11:35:42</td>\n",
       "      <td>1000066163106880</td>\n",
       "      <td>548826</td>\n",
       "      <td>500.0</td>\n",
       "      <td>S</td>\n",
       "      <td>2016-03-04</td>\n",
       "      <td>05:48:07</td>\n",
       "      <td>63.0</td>\n",
       "      <td>11</td>\n",
       "    </tr>\n",
       "    <tr>\n",
       "      <th>231</th>\n",
       "      <td>Sábado</td>\n",
       "      <td>2016-01-01</td>\n",
       "      <td>15:05:45</td>\n",
       "      <td>1000065718145070</td>\n",
       "      <td>422200</td>\n",
       "      <td>1375.0</td>\n",
       "      <td>S</td>\n",
       "      <td>2016-02-03</td>\n",
       "      <td>22:00:08</td>\n",
       "      <td>33.0</td>\n",
       "      <td>15</td>\n",
       "    </tr>\n",
       "    <tr>\n",
       "      <th>439</th>\n",
       "      <td>Sábado</td>\n",
       "      <td>2016-01-01</td>\n",
       "      <td>23:00:42</td>\n",
       "      <td>1000068292087430</td>\n",
       "      <td>520403</td>\n",
       "      <td>275.0</td>\n",
       "      <td>S</td>\n",
       "      <td>2016-01-14</td>\n",
       "      <td>02:49:05</td>\n",
       "      <td>13.0</td>\n",
       "      <td>23</td>\n",
       "    </tr>\n",
       "    <tr>\n",
       "      <th>525</th>\n",
       "      <td>Domingo</td>\n",
       "      <td>2016-01-02</td>\n",
       "      <td>00:35:42</td>\n",
       "      <td>1000083241778220</td>\n",
       "      <td>498406</td>\n",
       "      <td>275.0</td>\n",
       "      <td>S</td>\n",
       "      <td>2016-04-16</td>\n",
       "      <td>23:00:06</td>\n",
       "      <td>105.0</td>\n",
       "      <td>0</td>\n",
       "    </tr>\n",
       "    <tr>\n",
       "      <th>528</th>\n",
       "      <td>Domingo</td>\n",
       "      <td>2016-01-02</td>\n",
       "      <td>00:45:48</td>\n",
       "      <td>1000083241778220</td>\n",
       "      <td>498406</td>\n",
       "      <td>275.0</td>\n",
       "      <td>S</td>\n",
       "      <td>2016-04-16</td>\n",
       "      <td>23:00:06</td>\n",
       "      <td>105.0</td>\n",
       "      <td>0</td>\n",
       "    </tr>\n",
       "    <tr>\n",
       "      <th>...</th>\n",
       "      <td>...</td>\n",
       "      <td>...</td>\n",
       "      <td>...</td>\n",
       "      <td>...</td>\n",
       "      <td>...</td>\n",
       "      <td>...</td>\n",
       "      <td>...</td>\n",
       "      <td>...</td>\n",
       "      <td>...</td>\n",
       "      <td>...</td>\n",
       "      <td>...</td>\n",
       "    </tr>\n",
       "    <tr>\n",
       "      <th>70582</th>\n",
       "      <td>Segunda</td>\n",
       "      <td>2016-02-28</td>\n",
       "      <td>14:01:02</td>\n",
       "      <td>1000109816485850</td>\n",
       "      <td>498453</td>\n",
       "      <td>100.0</td>\n",
       "      <td>S</td>\n",
       "      <td>2016-04-13</td>\n",
       "      <td>23:00:06</td>\n",
       "      <td>45.0</td>\n",
       "      <td>14</td>\n",
       "    </tr>\n",
       "    <tr>\n",
       "      <th>70936</th>\n",
       "      <td>Segunda</td>\n",
       "      <td>2016-02-28</td>\n",
       "      <td>16:30:47</td>\n",
       "      <td>1000086603633550</td>\n",
       "      <td>406655</td>\n",
       "      <td>550.0</td>\n",
       "      <td>S</td>\n",
       "      <td>2016-05-07</td>\n",
       "      <td>23:00:06</td>\n",
       "      <td>69.0</td>\n",
       "      <td>16</td>\n",
       "    </tr>\n",
       "    <tr>\n",
       "      <th>71264</th>\n",
       "      <td>Segunda</td>\n",
       "      <td>2016-02-28</td>\n",
       "      <td>18:30:45</td>\n",
       "      <td>1000109931693390</td>\n",
       "      <td>498408</td>\n",
       "      <td>275.0</td>\n",
       "      <td>S</td>\n",
       "      <td>2016-03-07</td>\n",
       "      <td>23:00:07</td>\n",
       "      <td>8.0</td>\n",
       "      <td>18</td>\n",
       "    </tr>\n",
       "    <tr>\n",
       "      <th>71584</th>\n",
       "      <td>Segunda</td>\n",
       "      <td>2016-02-28</td>\n",
       "      <td>20:25:46</td>\n",
       "      <td>1000048693936790</td>\n",
       "      <td>498401</td>\n",
       "      <td>110.0</td>\n",
       "      <td>S</td>\n",
       "      <td>2016-04-13</td>\n",
       "      <td>23:00:06</td>\n",
       "      <td>45.0</td>\n",
       "      <td>20</td>\n",
       "    </tr>\n",
       "    <tr>\n",
       "      <th>72013</th>\n",
       "      <td>Segunda</td>\n",
       "      <td>2016-02-28</td>\n",
       "      <td>23:15:48</td>\n",
       "      <td>1000109298166220</td>\n",
       "      <td>470598</td>\n",
       "      <td>550.0</td>\n",
       "      <td>S</td>\n",
       "      <td>2016-03-04</td>\n",
       "      <td>23:00:07</td>\n",
       "      <td>5.0</td>\n",
       "      <td>23</td>\n",
       "    </tr>\n",
       "  </tbody>\n",
       "</table>\n",
       "<p>318 rows × 11 columns</p>\n",
       "</div>"
      ],
      "text/plain": [
       "      DayOfWeek       Date      Hora        CardNumber     Bin   Valor  \\\n",
       "92       Sábado 2016-01-01  11:35:42  1000066163106880  548826   500.0   \n",
       "231      Sábado 2016-01-01  15:05:45  1000065718145070  422200  1375.0   \n",
       "439      Sábado 2016-01-01  23:00:42  1000068292087430  520403   275.0   \n",
       "525     Domingo 2016-01-02  00:35:42  1000083241778220  498406   275.0   \n",
       "528     Domingo 2016-01-02  00:45:48  1000083241778220  498406   275.0   \n",
       "...         ...        ...       ...               ...     ...     ...   \n",
       "70582   Segunda 2016-02-28  14:01:02  1000109816485850  498453   100.0   \n",
       "70936   Segunda 2016-02-28  16:30:47  1000086603633550  406655   550.0   \n",
       "71264   Segunda 2016-02-28  18:30:45  1000109931693390  498408   275.0   \n",
       "71584   Segunda 2016-02-28  20:25:46  1000048693936790  498401   110.0   \n",
       "72013   Segunda 2016-02-28  23:15:48  1000109298166220  470598   550.0   \n",
       "\n",
       "      Chargeback ChargebackDate ChargebackHour  DaysToChargeback  SoHora  \n",
       "92             S     2016-03-04       05:48:07              63.0      11  \n",
       "231            S     2016-02-03       22:00:08              33.0      15  \n",
       "439            S     2016-01-14       02:49:05              13.0      23  \n",
       "525            S     2016-04-16       23:00:06             105.0       0  \n",
       "528            S     2016-04-16       23:00:06             105.0       0  \n",
       "...          ...            ...            ...               ...     ...  \n",
       "70582          S     2016-04-13       23:00:06              45.0      14  \n",
       "70936          S     2016-05-07       23:00:06              69.0      16  \n",
       "71264          S     2016-03-07       23:00:07               8.0      18  \n",
       "71584          S     2016-04-13       23:00:06              45.0      20  \n",
       "72013          S     2016-03-04       23:00:07               5.0      23  \n",
       "\n",
       "[318 rows x 11 columns]"
      ]
     },
     "execution_count": 35,
     "metadata": {},
     "output_type": "execute_result"
    }
   ],
   "source": [
    "# Criando um df para as transações que retornaram Chargeback\n",
    "chargeback = df2.query('Chargeback == \"S\"')\n",
    "chargeback"
   ]
  },
  {
   "cell_type": "code",
   "execution_count": 36,
   "metadata": {},
   "outputs": [
    {
     "data": {
      "text/html": [
       "<div>\n",
       "<style scoped>\n",
       "    .dataframe tbody tr th:only-of-type {\n",
       "        vertical-align: middle;\n",
       "    }\n",
       "\n",
       "    .dataframe tbody tr th {\n",
       "        vertical-align: top;\n",
       "    }\n",
       "\n",
       "    .dataframe thead th {\n",
       "        text-align: right;\n",
       "    }\n",
       "</style>\n",
       "<table border=\"1\" class=\"dataframe\">\n",
       "  <thead>\n",
       "    <tr style=\"text-align: right;\">\n",
       "      <th></th>\n",
       "      <th>CardNumber</th>\n",
       "      <th>Bin</th>\n",
       "      <th>Valor</th>\n",
       "      <th>DaysToChargeback</th>\n",
       "      <th>SoHora</th>\n",
       "    </tr>\n",
       "  </thead>\n",
       "  <tbody>\n",
       "    <tr>\n",
       "      <th>count</th>\n",
       "      <td>3.180000e+02</td>\n",
       "      <td>318.000000</td>\n",
       "      <td>318.000000</td>\n",
       "      <td>318.000000</td>\n",
       "      <td>318.000000</td>\n",
       "    </tr>\n",
       "    <tr>\n",
       "      <th>mean</th>\n",
       "      <td>1.000084e+15</td>\n",
       "      <td>495887.154088</td>\n",
       "      <td>477.178082</td>\n",
       "      <td>32.433962</td>\n",
       "      <td>13.874214</td>\n",
       "    </tr>\n",
       "    <tr>\n",
       "      <th>std</th>\n",
       "      <td>2.355726e+10</td>\n",
       "      <td>48038.069042</td>\n",
       "      <td>502.037831</td>\n",
       "      <td>23.304602</td>\n",
       "      <td>4.818788</td>\n",
       "    </tr>\n",
       "    <tr>\n",
       "      <th>min</th>\n",
       "      <td>1.000000e+15</td>\n",
       "      <td>400225.000000</td>\n",
       "      <td>26.000000</td>\n",
       "      <td>4.000000</td>\n",
       "      <td>0.000000</td>\n",
       "    </tr>\n",
       "    <tr>\n",
       "      <th>25%</th>\n",
       "      <td>1.000082e+15</td>\n",
       "      <td>456587.250000</td>\n",
       "      <td>156.000000</td>\n",
       "      <td>13.250000</td>\n",
       "      <td>11.000000</td>\n",
       "    </tr>\n",
       "    <tr>\n",
       "      <th>50%</th>\n",
       "      <td>1.000091e+15</td>\n",
       "      <td>498453.000000</td>\n",
       "      <td>275.000000</td>\n",
       "      <td>30.000000</td>\n",
       "      <td>13.000000</td>\n",
       "    </tr>\n",
       "    <tr>\n",
       "      <th>75%</th>\n",
       "      <td>1.000099e+15</td>\n",
       "      <td>540593.000000</td>\n",
       "      <td>550.000000</td>\n",
       "      <td>42.000000</td>\n",
       "      <td>17.000000</td>\n",
       "    </tr>\n",
       "    <tr>\n",
       "      <th>max</th>\n",
       "      <td>1.000110e+15</td>\n",
       "      <td>554927.000000</td>\n",
       "      <td>2750.000000</td>\n",
       "      <td>120.000000</td>\n",
       "      <td>23.000000</td>\n",
       "    </tr>\n",
       "  </tbody>\n",
       "</table>\n",
       "</div>"
      ],
      "text/plain": [
       "         CardNumber            Bin        Valor  DaysToChargeback      SoHora\n",
       "count  3.180000e+02     318.000000   318.000000        318.000000  318.000000\n",
       "mean   1.000084e+15  495887.154088   477.178082         32.433962   13.874214\n",
       "std    2.355726e+10   48038.069042   502.037831         23.304602    4.818788\n",
       "min    1.000000e+15  400225.000000    26.000000          4.000000    0.000000\n",
       "25%    1.000082e+15  456587.250000   156.000000         13.250000   11.000000\n",
       "50%    1.000091e+15  498453.000000   275.000000         30.000000   13.000000\n",
       "75%    1.000099e+15  540593.000000   550.000000         42.000000   17.000000\n",
       "max    1.000110e+15  554927.000000  2750.000000        120.000000   23.000000"
      ]
     },
     "execution_count": 36,
     "metadata": {},
     "output_type": "execute_result"
    }
   ],
   "source": [
    "# Analisando os dados numéricos\n",
    "chargeback.describe()"
   ]
  },
  {
   "cell_type": "code",
   "execution_count": 37,
   "metadata": {},
   "outputs": [
    {
     "data": {
      "text/plain": [
       "<matplotlib.axes._subplots.AxesSubplot at 0x20913638130>"
      ]
     },
     "execution_count": 37,
     "metadata": {},
     "output_type": "execute_result"
    },
    {
     "data": {
      "image/png": "[encoded data removed]",
      "text/plain": [
       "<Figure size 432x288 with 1 Axes>"
      ]
     },
     "metadata": {
      "needs_background": "light"
     },
     "output_type": "display_data"
    }
   ],
   "source": [
    "# Analisando o tempo para chargeback\n",
    "sns.boxplot(data = chargeback, x = 'Chargeback', y = 'DaysToChargeback')"
   ]
  },
  {
   "cell_type": "code",
   "execution_count": 38,
   "metadata": {},
   "outputs": [
    {
     "data": {
      "text/plain": [
       "<matplotlib.axes._subplots.AxesSubplot at 0x20912327b20>"
      ]
     },
     "execution_count": 38,
     "metadata": {},
     "output_type": "execute_result"
    },
    {
     "data": {
      "image/png": "[encoded data removed]",
      "text/plain": [
       "<Figure size 432x288 with 1 Axes>"
      ]
     },
     "metadata": {
      "needs_background": "light"
     },
     "output_type": "display_data"
    }
   ],
   "source": [
    "# Plotando um histograma para ver as horas com maiores transações que tiveram chargeback\n",
    "sns.histplot(chargeback['SoHora'], bins=30, kde = False)"
   ]
  },
  {
   "cell_type": "code",
   "execution_count": 39,
   "metadata": {},
   "outputs": [
    {
     "data": {
      "text/plain": [
       "<matplotlib.axes._subplots.AxesSubplot at 0x20912240310>"
      ]
     },
     "execution_count": 39,
     "metadata": {},
     "output_type": "execute_result"
    },
    {
     "data": {
      "image/png": "[encoded data removed]",
      "text/plain": [
       "<Figure size 432x288 with 1 Axes>"
      ]
     },
     "metadata": {
      "needs_background": "light"
     },
     "output_type": "display_data"
    }
   ],
   "source": [
    "# Analisando os valores das transações\n",
    "sns.boxplot(data = chargeback, x = 'Chargeback', y = 'Valor')"
   ]
  },
  {
   "cell_type": "code",
   "execution_count": 40,
   "metadata": {},
   "outputs": [
    {
     "data": {
      "text/plain": [
       "<matplotlib.axes._subplots.AxesSubplot at 0x2091216ddc0>"
      ]
     },
     "execution_count": 40,
     "metadata": {},
     "output_type": "execute_result"
    },
    {
     "data": {
      "image/png": "[encoded data removed]",
      "text/plain": [
       "<Figure size 1440x576 with 1 Axes>"
      ]
     },
     "metadata": {
      "needs_background": "light"
     },
     "output_type": "display_data"
    }
   ],
   "source": [
    "# Analisando os chargebacks pelos dias\n",
    "chargeback['Date'].value_counts().sort_index().plot.bar(figsize = (20, 8))"
   ]
  },
  {
   "cell_type": "code",
   "execution_count": 41,
   "metadata": {},
   "outputs": [
    {
     "data": {
      "text/plain": [
       "2016-02-07    17\n",
       "2016-01-07    12\n",
       "2016-02-24    12\n",
       "2016-02-11    12\n",
       "2016-02-28     9\n",
       "2016-02-16     9\n",
       "2016-01-26     9\n",
       "2016-02-17     9\n",
       "2016-01-22     9\n",
       "2016-02-03     8\n",
       "2016-02-25     8\n",
       "2016-02-02     8\n",
       "2016-01-21     8\n",
       "2016-02-04     8\n",
       "2016-02-18     7\n",
       "2016-01-19     7\n",
       "2016-01-05     7\n",
       "2016-01-15     7\n",
       "2016-01-24     7\n",
       "2016-02-12     7\n",
       "2016-02-26     7\n",
       "2016-01-27     6\n",
       "2016-01-18     6\n",
       "2016-01-31     6\n",
       "2016-01-28     6\n",
       "2016-01-17     5\n",
       "2016-02-27     5\n",
       "2016-01-11     5\n",
       "2016-02-20     5\n",
       "2016-01-08     5\n",
       "2016-02-01     5\n",
       "2016-01-12     4\n",
       "2016-02-15     4\n",
       "2016-02-23     4\n",
       "2016-01-06     4\n",
       "2016-01-16     4\n",
       "2016-01-20     4\n",
       "2016-01-14     4\n",
       "2016-01-02     4\n",
       "2016-02-19     4\n",
       "2016-02-21     4\n",
       "2016-01-10     4\n",
       "2016-02-10     4\n",
       "2016-02-09     3\n",
       "2016-02-14     3\n",
       "2016-01-13     3\n",
       "2016-01-01     3\n",
       "2016-01-04     3\n",
       "2016-01-30     2\n",
       "2016-01-29     2\n",
       "2016-02-05     2\n",
       "2016-01-23     2\n",
       "2016-02-13     2\n",
       "2016-02-06     2\n",
       "2016-01-09     1\n",
       "2016-02-08     1\n",
       "Name: Date, dtype: int64"
      ]
     },
     "execution_count": 41,
     "metadata": {},
     "output_type": "execute_result"
    }
   ],
   "source": [
    "chargeback['Date'].value_counts()"
   ]
  },
  {
   "cell_type": "code",
   "execution_count": 42,
   "metadata": {},
   "outputs": [
    {
     "data": {
      "text/plain": [
       "(array([0, 1, 2, 3, 4, 5, 6]), <a list of 7 Text major ticklabel objects>)"
      ]
     },
     "execution_count": 42,
     "metadata": {},
     "output_type": "execute_result"
    },
    {
     "data": {
      "image/png": "[encoded data removed]",
      "text/plain": [
       "<Figure size 432x288 with 1 Axes>"
      ]
     },
     "metadata": {
      "needs_background": "light"
     },
     "output_type": "display_data"
    }
   ],
   "source": [
    "# Analisando a frequencia dos chargebacks pelos dias da semana\n",
    "sns.countplot(data = chargeback, x = 'DayOfWeek', order = chargeback['DayOfWeek'].value_counts().index)\n",
    "plt.xticks(rotation = 90)"
   ]
  },
  {
   "cell_type": "code",
   "execution_count": 43,
   "metadata": {},
   "outputs": [
    {
     "data": {
      "text/plain": [
       "1000045399642310    7\n",
       "1000068991250450    4\n",
       "1000098044796440    4\n",
       "1000090262854370    4\n",
       "1000096744250900    4\n",
       "                   ..\n",
       "1000086603633550    1\n",
       "1000098636419500    1\n",
       "1000094134940040    1\n",
       "1000101053042570    1\n",
       "1000084710310600    1\n",
       "Name: CardNumber, Length: 248, dtype: int64"
      ]
     },
     "execution_count": 43,
     "metadata": {},
     "output_type": "execute_result"
    }
   ],
   "source": [
    "chargeback['CardNumber'].value_counts()"
   ]
  },
  {
   "cell_type": "code",
   "execution_count": 44,
   "metadata": {},
   "outputs": [
    {
     "data": {
      "text/plain": [
       "498453    11\n",
       "498408    11\n",
       "498406    10\n",
       "453211     8\n",
       "548826     8\n",
       "          ..\n",
       "520405     1\n",
       "409308     1\n",
       "548573     1\n",
       "483042     1\n",
       "520403     1\n",
       "Name: Bin, Length: 130, dtype: int64"
      ]
     },
     "execution_count": 44,
     "metadata": {},
     "output_type": "execute_result"
    }
   ],
   "source": [
    "chargeback['Bin'].value_counts()"
   ]
  },
  {
   "cell_type": "code",
   "execution_count": 45,
   "metadata": {},
   "outputs": [
    {
     "data": {
      "text/html": [
       "<div>\n",
       "<style scoped>\n",
       "    .dataframe tbody tr th:only-of-type {\n",
       "        vertical-align: middle;\n",
       "    }\n",
       "\n",
       "    .dataframe tbody tr th {\n",
       "        vertical-align: top;\n",
       "    }\n",
       "\n",
       "    .dataframe thead th {\n",
       "        text-align: right;\n",
       "    }\n",
       "</style>\n",
       "<table border=\"1\" class=\"dataframe\">\n",
       "  <thead>\n",
       "    <tr style=\"text-align: right;\">\n",
       "      <th></th>\n",
       "      <th>DayOfWeek</th>\n",
       "      <th>Date</th>\n",
       "      <th>Hora</th>\n",
       "      <th>CardNumber</th>\n",
       "      <th>Bin</th>\n",
       "      <th>Valor</th>\n",
       "      <th>Chargeback</th>\n",
       "      <th>ChargebackDate</th>\n",
       "      <th>ChargebackHour</th>\n",
       "      <th>DaysToChargeback</th>\n",
       "    </tr>\n",
       "  </thead>\n",
       "  <tbody>\n",
       "    <tr>\n",
       "      <th>45744</th>\n",
       "      <td>5</td>\n",
       "      <td>2016-02-11</td>\n",
       "      <td>08:46:06</td>\n",
       "      <td>1000045399642310</td>\n",
       "      <td>498408</td>\n",
       "      <td>260.0</td>\n",
       "      <td>S</td>\n",
       "      <td>2016-02-21</td>\n",
       "      <td>22:00:06</td>\n",
       "      <td>10.0</td>\n",
       "    </tr>\n",
       "    <tr>\n",
       "      <th>45747</th>\n",
       "      <td>5</td>\n",
       "      <td>2016-02-11</td>\n",
       "      <td>08:51:09</td>\n",
       "      <td>1000045399642310</td>\n",
       "      <td>498408</td>\n",
       "      <td>260.0</td>\n",
       "      <td>S</td>\n",
       "      <td>2016-02-21</td>\n",
       "      <td>22:00:06</td>\n",
       "      <td>10.0</td>\n",
       "    </tr>\n",
       "    <tr>\n",
       "      <th>45748</th>\n",
       "      <td>5</td>\n",
       "      <td>2016-02-11</td>\n",
       "      <td>08:51:13</td>\n",
       "      <td>1000045399642310</td>\n",
       "      <td>498408</td>\n",
       "      <td>260.0</td>\n",
       "      <td>S</td>\n",
       "      <td>2016-02-21</td>\n",
       "      <td>22:00:06</td>\n",
       "      <td>10.0</td>\n",
       "    </tr>\n",
       "    <tr>\n",
       "      <th>45753</th>\n",
       "      <td>5</td>\n",
       "      <td>2016-02-11</td>\n",
       "      <td>08:55:59</td>\n",
       "      <td>1000045399642310</td>\n",
       "      <td>498408</td>\n",
       "      <td>510.0</td>\n",
       "      <td>S</td>\n",
       "      <td>2016-02-21</td>\n",
       "      <td>22:00:06</td>\n",
       "      <td>10.0</td>\n",
       "    </tr>\n",
       "    <tr>\n",
       "      <th>45755</th>\n",
       "      <td>5</td>\n",
       "      <td>2016-02-11</td>\n",
       "      <td>08:56:03</td>\n",
       "      <td>1000045399642310</td>\n",
       "      <td>498408</td>\n",
       "      <td>510.0</td>\n",
       "      <td>S</td>\n",
       "      <td>2016-02-21</td>\n",
       "      <td>22:00:06</td>\n",
       "      <td>10.0</td>\n",
       "    </tr>\n",
       "    <tr>\n",
       "      <th>45922</th>\n",
       "      <td>5</td>\n",
       "      <td>2016-02-11</td>\n",
       "      <td>10:31:02</td>\n",
       "      <td>1000045399642310</td>\n",
       "      <td>498408</td>\n",
       "      <td>2750.0</td>\n",
       "      <td>S</td>\n",
       "      <td>2016-02-21</td>\n",
       "      <td>22:00:06</td>\n",
       "      <td>10.0</td>\n",
       "    </tr>\n",
       "    <tr>\n",
       "      <th>45969</th>\n",
       "      <td>5</td>\n",
       "      <td>2016-02-11</td>\n",
       "      <td>10:46:02</td>\n",
       "      <td>1000045399642310</td>\n",
       "      <td>498408</td>\n",
       "      <td>2750.0</td>\n",
       "      <td>S</td>\n",
       "      <td>2016-02-21</td>\n",
       "      <td>22:00:06</td>\n",
       "      <td>10.0</td>\n",
       "    </tr>\n",
       "  </tbody>\n",
       "</table>\n",
       "</div>"
      ],
      "text/plain": [
       "       DayOfWeek       Date      Hora        CardNumber     Bin   Valor  \\\n",
       "45744          5 2016-02-11  08:46:06  1000045399642310  498408   260.0   \n",
       "45747          5 2016-02-11  08:51:09  1000045399642310  498408   260.0   \n",
       "45748          5 2016-02-11  08:51:13  1000045399642310  498408   260.0   \n",
       "45753          5 2016-02-11  08:55:59  1000045399642310  498408   510.0   \n",
       "45755          5 2016-02-11  08:56:03  1000045399642310  498408   510.0   \n",
       "45922          5 2016-02-11  10:31:02  1000045399642310  498408  2750.0   \n",
       "45969          5 2016-02-11  10:46:02  1000045399642310  498408  2750.0   \n",
       "\n",
       "      Chargeback ChargebackDate ChargebackHour  DaysToChargeback  \n",
       "45744          S     2016-02-21       22:00:06              10.0  \n",
       "45747          S     2016-02-21       22:00:06              10.0  \n",
       "45748          S     2016-02-21       22:00:06              10.0  \n",
       "45753          S     2016-02-21       22:00:06              10.0  \n",
       "45755          S     2016-02-21       22:00:06              10.0  \n",
       "45922          S     2016-02-21       22:00:06              10.0  \n",
       "45969          S     2016-02-21       22:00:06              10.0  "
      ]
     },
     "execution_count": 45,
     "metadata": {},
     "output_type": "execute_result"
    }
   ],
   "source": [
    "df.query('CardNumber == 1000045399642310')"
   ]
  },
  {
   "cell_type": "markdown",
   "metadata": {},
   "source": [
    "## Qual é o perfil das transações que retornaram chargeback?\n",
    "\n",
    "* Como analisando anteriormente, a maioria dos valores das transações que retornaram chargeback são baixos, entre 100 a 600 reais. Aparentemente o índice dos chargebacks não são altos, sendo cerca de 0.5% em relação a valores totais e quantidades totais de transação.\n",
    "* Às sextas foram os dias da semana que tiveram maiores índices de chargeback, o que faz algum sentido, uma vez que as sextas eram os dias com maiores números de transações, porém terças eram os dias que haviam menores índices de chargeback o que talvez não faça tanto sentido assim, pois os dias das semana com menores transações eram as segundas e domingos.\n",
    "* Os cartões que possuíam maiores transações que retornaram chargeback, são cartões que tentaram realizar a mesma compra algumas vezes, no mesmo período de tempo, podendo talvez sinalizar alguma tentativa de fraude.\n",
    "* O dia 07-02 foi o dia que houve maior índice de chargebacks\n",
    "* A maioria dos chargebacks ocorreram entre às 11hrs às 13hrs e a média de dias foi de 32 dias."
   ]
  },
  {
   "cell_type": "markdown",
   "metadata": {},
   "source": [
    "# Machine Learning Models \n",
    "\n",
    "### Feature Engineering"
   ]
  },
  {
   "cell_type": "code",
   "execution_count": 82,
   "metadata": {},
   "outputs": [],
   "source": [
    "# Importando os pacotes necessários\n",
    "import datetime as dt\n",
    "import scikitplot as skplt\n",
    "import warnings\n",
    "warnings.filterwarnings(\"ignore\", category=DeprecationWarning)\n",
    "\n",
    "from sklearn.linear_model import LogisticRegression\n",
    "from sklearn.metrics import classification_report\n",
    "from sklearn.model_selection import train_test_split\n",
    "from sklearn.metrics import roc_auc_score, roc_curve, accuracy_score\n",
    "from imblearn.under_sampling import RandomUnderSampler"
   ]
  },
  {
   "cell_type": "code",
   "execution_count": 71,
   "metadata": {},
   "outputs": [
    {
     "data": {
      "text/html": [
       "<div>\n",
       "<style scoped>\n",
       "    .dataframe tbody tr th:only-of-type {\n",
       "        vertical-align: middle;\n",
       "    }\n",
       "\n",
       "    .dataframe tbody tr th {\n",
       "        vertical-align: top;\n",
       "    }\n",
       "\n",
       "    .dataframe thead th {\n",
       "        text-align: right;\n",
       "    }\n",
       "</style>\n",
       "<table border=\"1\" class=\"dataframe\">\n",
       "  <thead>\n",
       "    <tr style=\"text-align: right;\">\n",
       "      <th></th>\n",
       "      <th>DayOfWeek</th>\n",
       "      <th>CardNumber</th>\n",
       "      <th>Bin</th>\n",
       "      <th>Valor</th>\n",
       "      <th>Chargeback</th>\n",
       "      <th>DaysToChargeback</th>\n",
       "      <th>SoHora</th>\n",
       "    </tr>\n",
       "  </thead>\n",
       "  <tbody>\n",
       "    <tr>\n",
       "      <th>DayOfWeek</th>\n",
       "      <td>1.00</td>\n",
       "      <td>-0.01</td>\n",
       "      <td>0.01</td>\n",
       "      <td>0.01</td>\n",
       "      <td>-0.00</td>\n",
       "      <td>0.09</td>\n",
       "      <td>-0.06</td>\n",
       "    </tr>\n",
       "    <tr>\n",
       "      <th>CardNumber</th>\n",
       "      <td>-0.01</td>\n",
       "      <td>1.00</td>\n",
       "      <td>0.00</td>\n",
       "      <td>-0.16</td>\n",
       "      <td>0.02</td>\n",
       "      <td>0.05</td>\n",
       "      <td>0.01</td>\n",
       "    </tr>\n",
       "    <tr>\n",
       "      <th>Bin</th>\n",
       "      <td>0.01</td>\n",
       "      <td>0.00</td>\n",
       "      <td>1.00</td>\n",
       "      <td>0.02</td>\n",
       "      <td>-0.00</td>\n",
       "      <td>-0.08</td>\n",
       "      <td>-0.00</td>\n",
       "    </tr>\n",
       "    <tr>\n",
       "      <th>Valor</th>\n",
       "      <td>0.01</td>\n",
       "      <td>-0.16</td>\n",
       "      <td>0.02</td>\n",
       "      <td>1.00</td>\n",
       "      <td>0.01</td>\n",
       "      <td>-0.10</td>\n",
       "      <td>-0.01</td>\n",
       "    </tr>\n",
       "    <tr>\n",
       "      <th>Chargeback</th>\n",
       "      <td>-0.00</td>\n",
       "      <td>0.02</td>\n",
       "      <td>-0.00</td>\n",
       "      <td>0.01</td>\n",
       "      <td>1.00</td>\n",
       "      <td>NaN</td>\n",
       "      <td>-0.01</td>\n",
       "    </tr>\n",
       "    <tr>\n",
       "      <th>DaysToChargeback</th>\n",
       "      <td>0.09</td>\n",
       "      <td>0.05</td>\n",
       "      <td>-0.08</td>\n",
       "      <td>-0.10</td>\n",
       "      <td>NaN</td>\n",
       "      <td>1.00</td>\n",
       "      <td>0.01</td>\n",
       "    </tr>\n",
       "    <tr>\n",
       "      <th>SoHora</th>\n",
       "      <td>-0.06</td>\n",
       "      <td>0.01</td>\n",
       "      <td>-0.00</td>\n",
       "      <td>-0.01</td>\n",
       "      <td>-0.01</td>\n",
       "      <td>0.01</td>\n",
       "      <td>1.00</td>\n",
       "    </tr>\n",
       "  </tbody>\n",
       "</table>\n",
       "</div>"
      ],
      "text/plain": [
       "                  DayOfWeek  CardNumber   Bin  Valor  Chargeback  \\\n",
       "DayOfWeek              1.00       -0.01  0.01   0.01       -0.00   \n",
       "CardNumber            -0.01        1.00  0.00  -0.16        0.02   \n",
       "Bin                    0.01        0.00  1.00   0.02       -0.00   \n",
       "Valor                  0.01       -0.16  0.02   1.00        0.01   \n",
       "Chargeback            -0.00        0.02 -0.00   0.01        1.00   \n",
       "DaysToChargeback       0.09        0.05 -0.08  -0.10         NaN   \n",
       "SoHora                -0.06        0.01 -0.00  -0.01       -0.01   \n",
       "\n",
       "                  DaysToChargeback  SoHora  \n",
       "DayOfWeek                     0.09   -0.06  \n",
       "CardNumber                    0.05    0.01  \n",
       "Bin                          -0.08   -0.00  \n",
       "Valor                        -0.10   -0.01  \n",
       "Chargeback                     NaN   -0.01  \n",
       "DaysToChargeback              1.00    0.01  \n",
       "SoHora                        0.01    1.00  "
      ]
     },
     "execution_count": 71,
     "metadata": {},
     "output_type": "execute_result"
    }
   ],
   "source": [
    "# Procurando por correlações\n",
    "df1.corr().round(2)"
   ]
  },
  {
   "cell_type": "code",
   "execution_count": 72,
   "metadata": {},
   "outputs": [
    {
     "data": {
      "text/plain": [
       "<matplotlib.axes._subplots.AxesSubplot at 0x20911ad1640>"
      ]
     },
     "execution_count": 72,
     "metadata": {},
     "output_type": "execute_result"
    },
    {
     "data": {
      "image/png": "[encoded data removed]",
      "text/plain": [
       "<Figure size 432x288 with 2 Axes>"
      ]
     },
     "metadata": {
      "needs_background": "light"
     },
     "output_type": "display_data"
    }
   ],
   "source": [
    "sns.heatmap(df1.corr().round(2), annot=True, vmin=-1, vmax=1 )"
   ]
  },
  {
   "cell_type": "code",
   "execution_count": 81,
   "metadata": {},
   "outputs": [
    {
     "data": {
      "text/html": [
       "<div>\n",
       "<style scoped>\n",
       "    .dataframe tbody tr th:only-of-type {\n",
       "        vertical-align: middle;\n",
       "    }\n",
       "\n",
       "    .dataframe tbody tr th {\n",
       "        vertical-align: top;\n",
       "    }\n",
       "\n",
       "    .dataframe thead th {\n",
       "        text-align: right;\n",
       "    }\n",
       "</style>\n",
       "<table border=\"1\" class=\"dataframe\">\n",
       "  <thead>\n",
       "    <tr style=\"text-align: right;\">\n",
       "      <th></th>\n",
       "      <th>Date</th>\n",
       "      <th>CardNumber</th>\n",
       "      <th>Bin</th>\n",
       "      <th>Valor</th>\n",
       "      <th>Chargeback</th>\n",
       "      <th>ChargebackDate</th>\n",
       "      <th>ChargebackHour</th>\n",
       "      <th>DaysToChargeback</th>\n",
       "      <th>1</th>\n",
       "      <th>2</th>\n",
       "      <th>3</th>\n",
       "      <th>4</th>\n",
       "      <th>5</th>\n",
       "      <th>6</th>\n",
       "      <th>7</th>\n",
       "    </tr>\n",
       "  </thead>\n",
       "  <tbody>\n",
       "    <tr>\n",
       "      <th>0</th>\n",
       "      <td>2016-01-01</td>\n",
       "      <td>1000039945226370</td>\n",
       "      <td>498442</td>\n",
       "      <td>275.0</td>\n",
       "      <td>0</td>\n",
       "      <td>NaT</td>\n",
       "      <td>NaN</td>\n",
       "      <td>NaN</td>\n",
       "      <td>0</td>\n",
       "      <td>0</td>\n",
       "      <td>0</td>\n",
       "      <td>0</td>\n",
       "      <td>0</td>\n",
       "      <td>1</td>\n",
       "      <td>0</td>\n",
       "    </tr>\n",
       "    <tr>\n",
       "      <th>1</th>\n",
       "      <td>2016-01-01</td>\n",
       "      <td>1000082981113950</td>\n",
       "      <td>544315</td>\n",
       "      <td>275.0</td>\n",
       "      <td>0</td>\n",
       "      <td>NaT</td>\n",
       "      <td>NaN</td>\n",
       "      <td>NaN</td>\n",
       "      <td>0</td>\n",
       "      <td>0</td>\n",
       "      <td>0</td>\n",
       "      <td>0</td>\n",
       "      <td>0</td>\n",
       "      <td>1</td>\n",
       "      <td>0</td>\n",
       "    </tr>\n",
       "    <tr>\n",
       "      <th>2</th>\n",
       "      <td>2016-01-01</td>\n",
       "      <td>1000037607418320</td>\n",
       "      <td>514895</td>\n",
       "      <td>459.0</td>\n",
       "      <td>0</td>\n",
       "      <td>NaT</td>\n",
       "      <td>NaN</td>\n",
       "      <td>NaN</td>\n",
       "      <td>0</td>\n",
       "      <td>0</td>\n",
       "      <td>0</td>\n",
       "      <td>0</td>\n",
       "      <td>0</td>\n",
       "      <td>1</td>\n",
       "      <td>0</td>\n",
       "    </tr>\n",
       "    <tr>\n",
       "      <th>3</th>\n",
       "      <td>2016-01-01</td>\n",
       "      <td>1000082973693690</td>\n",
       "      <td>453211</td>\n",
       "      <td>51.0</td>\n",
       "      <td>0</td>\n",
       "      <td>NaT</td>\n",
       "      <td>NaN</td>\n",
       "      <td>NaN</td>\n",
       "      <td>0</td>\n",
       "      <td>0</td>\n",
       "      <td>0</td>\n",
       "      <td>0</td>\n",
       "      <td>0</td>\n",
       "      <td>1</td>\n",
       "      <td>0</td>\n",
       "    </tr>\n",
       "    <tr>\n",
       "      <th>4</th>\n",
       "      <td>2016-01-01</td>\n",
       "      <td>1000082981217500</td>\n",
       "      <td>515601</td>\n",
       "      <td>306.0</td>\n",
       "      <td>0</td>\n",
       "      <td>NaT</td>\n",
       "      <td>NaN</td>\n",
       "      <td>NaN</td>\n",
       "      <td>0</td>\n",
       "      <td>0</td>\n",
       "      <td>0</td>\n",
       "      <td>0</td>\n",
       "      <td>0</td>\n",
       "      <td>1</td>\n",
       "      <td>0</td>\n",
       "    </tr>\n",
       "  </tbody>\n",
       "</table>\n",
       "</div>"
      ],
      "text/plain": [
       "        Date        CardNumber     Bin  Valor  Chargeback ChargebackDate  \\\n",
       "0 2016-01-01  1000039945226370  498442  275.0           0            NaT   \n",
       "1 2016-01-01  1000082981113950  544315  275.0           0            NaT   \n",
       "2 2016-01-01  1000037607418320  514895  459.0           0            NaT   \n",
       "3 2016-01-01  1000082973693690  453211   51.0           0            NaT   \n",
       "4 2016-01-01  1000082981217500  515601  306.0           0            NaT   \n",
       "\n",
       "  ChargebackHour  DaysToChargeback  1  2  3  4  5  6  7  \n",
       "0            NaN               NaN  0  0  0  0  0  1  0  \n",
       "1            NaN               NaN  0  0  0  0  0  1  0  \n",
       "2            NaN               NaN  0  0  0  0  0  1  0  \n",
       "3            NaN               NaN  0  0  0  0  0  1  0  \n",
       "4            NaN               NaN  0  0  0  0  0  1  0  "
      ]
     },
     "execution_count": 81,
     "metadata": {},
     "output_type": "execute_result"
    }
   ],
   "source": [
    "# Transformando os chargebacks em binários\n",
    "df1['Chargeback'].replace('N', 0, inplace=True)\n",
    "df1['Chargeback'].replace('S', 1, inplace=True)\n",
    "\n",
    "# Removendo a coluna SoHora\n",
    "df1.drop(columns=['SoHora'], inplace=True)\n",
    "\n",
    "# Transformando a coluna DayOfWeek em dummies\n",
    "dummies = pd.get_dummies(df1.DayOfWeek)\n",
    "dummies\n",
    "\n",
    "# Concatenando df1 com as dummies\n",
    "df3 = pd.concat([df1, dummies], axis='columns')\n",
    "df3.drop(columns=['DayOfWeek'], inplace=True)\n",
    "df3.head()"
   ]
  },
  {
   "cell_type": "code",
   "execution_count": 88,
   "metadata": {},
   "outputs": [],
   "source": [
    "# Convertendo a coluna Date\n",
    "df3['Date'] = pd.to_datetime(df3['Date'])\n",
    "df3['Date'] = df3['Date'].map(dt.datetime.toordinal)\n",
    "\n",
    "#df3['ChargebackDate'] = pd.to_datetime(df3['ChargebackDate'])\n",
    "#df3['ChargebackDate'] = df3['ChargebackDate'].map(dt.datetime.toordinal)\n",
    "\n",
    "#df3['ChargebackDate'] = (df3['ChargebackDate']).astype(str).replace({'NaT': None})"
   ]
  },
  {
   "cell_type": "code",
   "execution_count": 89,
   "metadata": {},
   "outputs": [
    {
     "name": "stdout",
     "output_type": "stream",
     "text": [
      "<class 'pandas.core.frame.DataFrame'>\n",
      "Int64Index: 71693 entries, 0 to 72073\n",
      "Data columns (total 15 columns):\n",
      " #   Column            Non-Null Count  Dtype         \n",
      "---  ------            --------------  -----         \n",
      " 0   Date              71693 non-null  int64         \n",
      " 1   CardNumber        71693 non-null  int64         \n",
      " 2   Bin               71693 non-null  int64         \n",
      " 3   Valor             71693 non-null  float64       \n",
      " 4   Chargeback        71693 non-null  int64         \n",
      " 5   ChargebackDate    318 non-null    datetime64[ns]\n",
      " 6   ChargebackHour    318 non-null    object        \n",
      " 7   DaysToChargeback  318 non-null    float64       \n",
      " 8   1                 71693 non-null  uint8         \n",
      " 9   2                 71693 non-null  uint8         \n",
      " 10  3                 71693 non-null  uint8         \n",
      " 11  4                 71693 non-null  uint8         \n",
      " 12  5                 71693 non-null  uint8         \n",
      " 13  6                 71693 non-null  uint8         \n",
      " 14  7                 71693 non-null  uint8         \n",
      "dtypes: datetime64[ns](1), float64(2), int64(4), object(1), uint8(7)\n",
      "memory usage: 5.4+ MB\n"
     ]
    }
   ],
   "source": [
    "df3.info()"
   ]
  },
  {
   "cell_type": "code",
   "execution_count": 90,
   "metadata": {},
   "outputs": [],
   "source": [
    "# Removendo as colunas ChargebackDate, ChargebackHour, DaysToChargeback\n",
    "df4 = df3.copy()\n",
    "df4.drop(columns=['ChargebackDate', 'ChargebackHour', 'DaysToChargeback'], inplace=True)"
   ]
  },
  {
   "cell_type": "code",
   "execution_count": 91,
   "metadata": {},
   "outputs": [
    {
     "name": "stdout",
     "output_type": "stream",
     "text": [
      "<class 'pandas.core.frame.DataFrame'>\n",
      "Int64Index: 71693 entries, 0 to 72073\n",
      "Data columns (total 12 columns):\n",
      " #   Column      Non-Null Count  Dtype  \n",
      "---  ------      --------------  -----  \n",
      " 0   Date        71693 non-null  int64  \n",
      " 1   CardNumber  71693 non-null  int64  \n",
      " 2   Bin         71693 non-null  int64  \n",
      " 3   Valor       71693 non-null  float64\n",
      " 4   Chargeback  71693 non-null  int64  \n",
      " 5   1           71693 non-null  uint8  \n",
      " 6   2           71693 non-null  uint8  \n",
      " 7   3           71693 non-null  uint8  \n",
      " 8   4           71693 non-null  uint8  \n",
      " 9   5           71693 non-null  uint8  \n",
      " 10  6           71693 non-null  uint8  \n",
      " 11  7           71693 non-null  uint8  \n",
      "dtypes: float64(1), int64(4), uint8(7)\n",
      "memory usage: 3.8 MB\n"
     ]
    }
   ],
   "source": [
    "df4.info()"
   ]
  },
  {
   "cell_type": "code",
   "execution_count": 92,
   "metadata": {},
   "outputs": [
    {
     "name": "stdout",
     "output_type": "stream",
     "text": [
      "N    71375\n",
      "S      318\n",
      "Name: Chargeback, dtype: int64\n",
      "\n",
      "Fraudes representam 0.4436% do dataset.\n",
      "\n"
     ]
    },
    {
     "name": "stderr",
     "output_type": "stream",
     "text": [
      "C:\\Users\\KEB\\anaconda3\\lib\\site-packages\\seaborn\\_decorators.py:36: FutureWarning: Pass the following variable as a keyword arg: x. From version 0.12, the only valid positional argument will be `data`, and passing other arguments without an explicit keyword will result in an error or misinterpretation.\n",
      "  warnings.warn(\n"
     ]
    },
    {
     "data": {
      "image/png": "[encoded data removed]",
      "text/plain": [
       "<Figure size 432x288 with 1 Axes>"
      ]
     },
     "metadata": {
      "needs_background": "light"
     },
     "output_type": "display_data"
    }
   ],
   "source": [
    "# ver o balanceamento das classes\n",
    "print(df.Chargeback.value_counts())\n",
    "print(\"\\nFraudes representam {:.4f}% do dataset.\\n\".format((df4[df4.Chargeback == 1].shape[0] / df4.shape[0]) * 100))\n",
    " \n",
    "# plotar gráfico de barras para as Classes\n",
    "sns.countplot('Chargeback', data=df);"
   ]
  },
  {
   "cell_type": "markdown",
   "metadata": {},
   "source": [
    "Claramente tem uma base desbalanceada\n",
    "\n",
    "## Regressão Logística"
   ]
  },
  {
   "cell_type": "code",
   "execution_count": 93,
   "metadata": {},
   "outputs": [
    {
     "name": "stderr",
     "output_type": "stream",
     "text": [
      "C:\\Users\\KEB\\anaconda3\\lib\\site-packages\\sklearn\\linear_model\\_logistic.py:762: ConvergenceWarning: lbfgs failed to converge (status=2):\n",
      "ABNORMAL_TERMINATION_IN_LNSRCH.\n",
      "\n",
      "Increase the number of iterations (max_iter) or scale the data as shown in:\n",
      "    https://scikit-learn.org/stable/modules/preprocessing.html\n",
      "Please also refer to the documentation for alternative solver options:\n",
      "    https://scikit-learn.org/stable/modules/linear_model.html#logistic-regression\n",
      "  n_iter_i = _check_optimize_result(\n"
     ]
    }
   ],
   "source": [
    "# Separando as variáveis entre X e y\n",
    "X = df4.drop('Chargeback', axis=1)\n",
    "y = df4['Chargeback']\n",
    " \n",
    "# Dividindo o dataset para treino e teste\n",
    "X_train, X_test, y_train, y_test = train_test_split(X, y, stratify=y, shuffle=True)\n",
    " \n",
    "# Instaciando e treinando o modelo de Regressão Logística\n",
    "model = LogisticRegression()\n",
    "model.fit(X_train, y_train)\n",
    " \n",
    "# Fazendo as previsões em cima dos dados de teste\n",
    "y_pred = model.predict(X_test)\n",
    "y_proba = model.predict_proba(X_test)"
   ]
  },
  {
   "cell_type": "code",
   "execution_count": 94,
   "metadata": {},
   "outputs": [
    {
     "data": {
      "text/plain": [
       "<matplotlib.axes._subplots.AxesSubplot at 0x2091868a970>"
      ]
     },
     "execution_count": 94,
     "metadata": {},
     "output_type": "execute_result"
    },
    {
     "data": {
      "image/png": "[encoded data removed]",
      "text/plain": [
       "<Figure size 432x288 with 2 Axes>"
      ]
     },
     "metadata": {
      "needs_background": "light"
     },
     "output_type": "display_data"
    }
   ],
   "source": [
    "# Plotando a matrix de confusão\n",
    "skplt.metrics.plot_confusion_matrix(y_test, y_pred, normalize=True)"
   ]
  },
  {
   "cell_type": "code",
   "execution_count": 95,
   "metadata": {},
   "outputs": [
    {
     "name": "stdout",
     "output_type": "stream",
     "text": [
      "Relatório de Classificação:\n",
      "               precision    recall  f1-score   support\n",
      "\n",
      "           0     0.9955    1.0000    0.9978     17844\n",
      "           1     0.0000    0.0000    0.0000        80\n",
      "\n",
      "    accuracy                         0.9955     17924\n",
      "   macro avg     0.4978    0.5000    0.4989     17924\n",
      "weighted avg     0.9911    0.9955    0.9933     17924\n",
      "\n"
     ]
    },
    {
     "name": "stderr",
     "output_type": "stream",
     "text": [
      "C:\\Users\\KEB\\anaconda3\\lib\\site-packages\\sklearn\\metrics\\_classification.py:1221: UndefinedMetricWarning: Precision and F-score are ill-defined and being set to 0.0 in labels with no predicted samples. Use `zero_division` parameter to control this behavior.\n",
      "  _warn_prf(average, modifier, msg_start, len(result))\n"
     ]
    }
   ],
   "source": [
    "# Imprimindo relatório de classificação\n",
    "print(\"Relatório de Classificação:\\n\", classification_report(y_test, y_pred, digits=4))"
   ]
  },
  {
   "cell_type": "code",
   "execution_count": 96,
   "metadata": {},
   "outputs": [
    {
     "name": "stdout",
     "output_type": "stream",
     "text": [
      "Acurácia: 0.9955\n",
      "\n"
     ]
    }
   ],
   "source": [
    "# Imprimindo a acurácia do modelo\n",
    "print(\"Acurácia: {:.4f}\\n\".format(accuracy_score(y_test, y_pred)))"
   ]
  },
  {
   "cell_type": "markdown",
   "metadata": {},
   "source": [
    "Conseguimos uma acurácia de 99,55%. A acurácia do modelo foi alta, porém iso não significa que o modelo é capaz de predizer os chargebacks, além do fato de que, devido ao desbalanceamento dos dados, o modelo nem conseguiu classificar as instâncias em que df.Chargeback == 1.\n",
    "\n",
    "Vamos tentar aplicar a tecnica do **Under-Sampling** para dar uma balanceada no dataset."
   ]
  },
  {
   "cell_type": "code",
   "execution_count": 97,
   "metadata": {},
   "outputs": [
    {
     "name": "stdout",
     "output_type": "stream",
     "text": [
      "1    238\n",
      "0    238\n",
      "Name: Chargeback, dtype: int64\n"
     ]
    },
    {
     "name": "stderr",
     "output_type": "stream",
     "text": [
      "C:\\Users\\KEB\\anaconda3\\lib\\site-packages\\seaborn\\_decorators.py:36: FutureWarning: Pass the following variable as a keyword arg: x. From version 0.12, the only valid positional argument will be `data`, and passing other arguments without an explicit keyword will result in an error or misinterpretation.\n",
      "  warnings.warn(\n"
     ]
    },
    {
     "data": {
      "image/png": "[encoded data removed]",
      "text/plain": [
       "<Figure size 432x288 with 1 Axes>"
      ]
     },
     "metadata": {
      "needs_background": "light"
     },
     "output_type": "display_data"
    }
   ],
   "source": [
    "# Usando a técnica under-sampling através do RandomUnderSampler()\n",
    "rus = RandomUnderSampler()\n",
    "X_res, y_res = rus.fit_sample(X_train, y_train)\n",
    " \n",
    "# Printando o balanceamento das classes\n",
    "print(pd.Series(y_res).value_counts())\n",
    " \n",
    "# Plotando a nova distribuição de classes\n",
    "sns.countplot(y_res);"
   ]
  },
  {
   "cell_type": "code",
   "execution_count": 98,
   "metadata": {},
   "outputs": [
    {
     "name": "stdout",
     "output_type": "stream",
     "text": [
      "Relatório de Classificação:\n",
      "               precision    recall  f1-score   support\n",
      "\n",
      "           0     0.0000    0.0000    0.0000     17844\n",
      "           1     0.0045    1.0000    0.0089        80\n",
      "\n",
      "    accuracy                         0.0045     17924\n",
      "   macro avg     0.0022    0.5000    0.0044     17924\n",
      "weighted avg     0.0000    0.0045    0.0000     17924\n",
      "\n",
      "Acurácia: 0.0045\n",
      "\n",
      "AUC: 0.5000\n",
      "\n"
     ]
    },
    {
     "name": "stderr",
     "output_type": "stream",
     "text": [
      "C:\\Users\\KEB\\anaconda3\\lib\\site-packages\\sklearn\\metrics\\_classification.py:1221: UndefinedMetricWarning: Precision and F-score are ill-defined and being set to 0.0 in labels with no predicted samples. Use `zero_division` parameter to control this behavior.\n",
      "  _warn_prf(average, modifier, msg_start, len(result))\n"
     ]
    },
    {
     "data": {
      "image/png": "[encoded data removed]",
      "text/plain": [
       "<Figure size 432x288 with 2 Axes>"
      ]
     },
     "metadata": {
      "needs_background": "light"
     },
     "output_type": "display_data"
    }
   ],
   "source": [
    "# instanciar e treinar um modelo de Regressão Logística\n",
    "model_res = LogisticRegression()\n",
    "model_res.fit(X_res, y_res)\n",
    " \n",
    "# fazer as previsões em cima dos dados de teste\n",
    "y_pred_res = model_res.predict(X_test)\n",
    "y_proba_res = model_res.predict_proba(X_test)\n",
    " \n",
    "# plotar a matrix de confusão\n",
    "skplt.metrics.plot_confusion_matrix(y_test, y_pred_res, normalize=True)\n",
    " \n",
    "# imprimir relatório de classificação\n",
    "print(\"Relatório de Classificação:\\n\", classification_report(y_test, y_pred_res, digits=4))\n",
    " \n",
    "# imprimir a acurácia do modelo\n",
    "print(\"Acurácia: {:.4f}\\n\".format(accuracy_score(y_test, y_pred_res)))\n",
    " \n",
    "# imprimir a área sob da curva\n",
    "print(\"AUC: {:.4f}\\n\".format(roc_auc_score(y_test, y_pred_res)))"
   ]
  },
  {
   "cell_type": "markdown",
   "metadata": {},
   "source": [
    "Tivemos uma diminuição da acurácia e o modelo não foi capaz de classificar as instâncias em que df.Chargeback == 0. "
   ]
  },
  {
   "cell_type": "markdown",
   "metadata": {},
   "source": [
    "# Recomendações para diminuição da perda de Chargebacks\n",
    "\n",
    "Após a análise do dataset, concluímos de o índice dos chargebacks desse cliente é de apenas 0.5%. Contudo, existem algumas ferramentas disponíveis e práticas interessantes para tentar evitar os chargebacks:\n",
    "* Utilizar sistemas de antifraude e análise de risco;\n",
    "* Utilizar ferramentas de automação financeira que são capazes de integrar os pontos de vendas com as maquininhas de cartão;\n",
    "* Utilizar intermediadores de pagamento como por exemplo a PayPal, pois, por serem empresas que já estão no mercado há um tempo, possuem seguranças maiores anti fraudes;\n",
    "* Utilizar Avisos de Recebimentos para indicar quando a mercadoria foi recebida pelo cliente;\n",
    "* Coleta de dados relevantes do cliente como CPF, email, número do IP;\n",
    "* Sempre acompanhar de perto os índices de chargebacks."
   ]
  },
  {
   "cell_type": "code",
   "execution_count": null,
   "metadata": {},
   "outputs": [],
   "source": []
  }
 ],
 "metadata": {
  "kernelspec": {
   "display_name": "Python 3",
   "language": "python",
   "name": "python3"
  },
  "language_info": {
   "codemirror_mode": {
    "name": "ipython",
    "version": 3
   },
   "file_extension": ".py",
   "mimetype": "text/x-python",
   "name": "python",
   "nbconvert_exporter": "python",
   "pygments_lexer": "ipython3",
   "version": "3.8.3"
  }
 },
 "nbformat": 4,
 "nbformat_minor": 4
}
